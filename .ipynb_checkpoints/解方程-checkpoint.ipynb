{
 "cells": [
  {
   "cell_type": "code",
   "execution_count": 2,
   "metadata": {
    "collapsed": false
   },
   "outputs": [
    {
     "data": {
      "text/plain": [
       "{z: 12, x: 39, y: 21, t: 24}"
      ]
     },
     "execution_count": 2,
     "metadata": {},
     "output_type": "execute_result"
    }
   ],
   "source": [
    "from sympy import *\n",
    "x = Symbol('x')\n",
    "y = Symbol('y')\n",
    "z = Symbol('z')\n",
    "t = Symbol('t')\n",
    "solve([Eq(4*(x-y-z),t),Eq(2*(3*y-z-x),t),Eq(7*z-x-y,t),Eq(x+y+z,72)],[x,y,z,t])\n",
    " "
   ]
  },
  {
   "cell_type": "code",
   "execution_count": 44,
   "metadata": {
    "collapsed": false
   },
   "outputs": [
    {
     "data": {
      "text/plain": [
       "[{I: (V1 + V2 - 2*V3)/Rt,\n",
       "  R: -Rt*(V2 - V3)/(V1 + V2 - 2*V3),\n",
       "  I2: (V1 + V2 - 2*V3)/Rt,\n",
       "  I3: 0}]"
      ]
     },
     "execution_count": 44,
     "metadata": {},
     "output_type": "execute_result"
    }
   ],
   "source": [
    "from sympy import *\n",
    "I , I2 , I3 = symbols('I I2 I3')\n",
    "R ,Rt = symbols('R Rt') \n",
    "V1,V2,V3 = symbols('V1 V2 V3')\n",
    "solve([ Eq(I*R+I*Rt +I2*R,V1-V2),Eq(I*R+I*Rt +I3*R,V1-V3),Eq(I,I2+I3),Eq(-I3*R+I2*R,V3-V2 ),Eq(I3,0)]  ,\n",
    "       { I2 , I3,R ,Rt  ,I} )"
   ]
  },
  {
   "cell_type": "code",
   "execution_count": 20,
   "metadata": {
    "collapsed": false
   },
   "outputs": [
    {
     "data": {
      "text/plain": [
       "{x_2: 3*x_3/4, x_1: 5*x_3/4, x_0: x_3/4}"
      ]
     },
     "execution_count": 20,
     "metadata": {},
     "output_type": "execute_result"
    }
   ],
   "source": [
    "from sympy import *\n",
    "\n",
    "a = Matrix([[3,0,-1,0],[8,0,0,-2], [0,2,-2,-1]])\n",
    "x = symarray('x', 4)\n",
    "solve(a*x)"
   ]
  },
  {
   "cell_type": "code",
   "execution_count": 29,
   "metadata": {
    "collapsed": false
   },
   "outputs": [
    {
     "name": "stdout",
     "output_type": "stream",
     "text": [
      "{x: 2, y: 1}\n"
     ]
    }
   ],
   "source": [
    "'''\n",
    "解普通方程\n",
    "'''\n",
    "from sympy import *\n",
    "x = Symbol('x')\n",
    "y = Symbol('y')\n",
    "print (solve([2 * x - y - 3, 3 * x + y - 7],[x, y]))"
   ]
  },
  {
   "cell_type": "code",
   "execution_count": 37,
   "metadata": {
    "collapsed": false
   },
   "outputs": [
    {
     "name": "stdout",
     "output_type": "stream",
     "text": [
      "E\n"
     ]
    }
   ],
   "source": [
    "'''\n",
    "解微积分 \n",
    "'''\n",
    "from sympy import *\n",
    "n = Symbol('n')\n",
    "s = ((n+3)/(n+2))**n\n",
    "\n",
    "#无穷为两个小写o\n",
    "\n",
    "print (limit(s, n, oo))"
   ]
  },
  {
   "cell_type": "code",
   "execution_count": 36,
   "metadata": {
    "collapsed": false
   },
   "outputs": [
    {
     "name": "stdout",
     "output_type": "stream",
     "text": [
      "2\n"
     ]
    }
   ],
   "source": [
    "from sympy import *\n",
    "t = Symbol('t')\n",
    "x = Symbol('x')\n",
    "m = integrate(sin(t)/(pi-t),(t,0,x))\n",
    "n = integrate(m,(x,0,pi))\n",
    "print(n)"
   ]
  },
  {
   "cell_type": "code",
   "execution_count": 40,
   "metadata": {
    "collapsed": false
   },
   "outputs": [
    {
     "name": "stdout",
     "output_type": "stream",
     "text": [
      "Eq(f(x), C1*exp(x**2))\n"
     ]
    }
   ],
   "source": [
    "\n",
    "#y' = 2xy  的通解\n",
    "\n",
    "from sympy import *\n",
    "f = Function('f')\n",
    "x = Symbol('x')\n",
    "print (dsolve(diff(f(x),x) - 2*f(x)*x,f(x)))\n",
    "\n",
    "\n",
    "#说明：\n",
    "\n",
    "#f = Function('f')\n",
    "#x = Symbol('x')\n",
    "\n",
    "#表示f(x)的导：\n",
    "\n",
    "#diff(f(x), x, index)    \n",
    "#>>> diff(sin(x), x, 1)\n",
    "#cos(x)\n",
    "\n",
    "#dsolve(eq, f(x))\n",
    "    #第一个参数为微分方程（要先将等式移项为右端为0的形式)\n",
    "    #第二个参数为要解的函数(在微分方程中)"
   ]
  },
  {
   "cell_type": "code",
   "execution_count": 3,
   "metadata": {
    "collapsed": false
   },
   "outputs": [
    {
     "name": "stdout",
     "output_type": "stream",
     "text": [
      "a11 + 2*a12 + 2*a13 + a22 + 2*a23 + a33\n"
     ]
    }
   ],
   "source": [
    "'''\n",
    "矩阵化简\n",
    "'''\n",
    "from sympy import *\n",
    "x1,x2,x3 = symbols('x1 x2 x3')\n",
    "a11,a12,a13,a22,a23,a33 = symbols('a11 a12 a13 a22 a23 a33')\n",
    "m = Matrix([[x1,x2,x3]])\n",
    "n = Matrix([[a11,a12,a13],[a12,a22,a23],[a13,a23,a33]])\n",
    "v = Matrix([[x1],[x2],[x3]])\n",
    "f = m * n * v\n",
    "#f[0] 化简， subs代入计算\n",
    "print (f[0].subs({x1:1, x2:1, x3:1}))"
   ]
  },
  {
   "cell_type": "code",
   "execution_count": null,
   "metadata": {
    "collapsed": true
   },
   "outputs": [],
   "source": []
  }
 ],
 "metadata": {
  "kernelspec": {
   "display_name": "Python 3",
   "language": "python",
   "name": "python3"
  },
  "language_info": {
   "codemirror_mode": {
    "name": "ipython",
    "version": 3
   },
   "file_extension": ".py",
   "mimetype": "text/x-python",
   "name": "python",
   "nbconvert_exporter": "python",
   "pygments_lexer": "ipython3",
   "version": "3.6.0"
  }
 },
 "nbformat": 4,
 "nbformat_minor": 2
}
