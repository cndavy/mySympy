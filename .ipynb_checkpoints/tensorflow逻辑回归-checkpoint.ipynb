{
 "cells": [
  {
   "cell_type": "code",
   "execution_count": 1,
   "metadata": {
    "collapsed": false
   },
   "outputs": [
    {
     "name": "stdout",
     "output_type": "stream",
     "text": [
      "WARNING:tensorflow:From <ipython-input-1-6206606e222b>:35: initialize_all_variables (from tensorflow.python.ops.variables) is deprecated and will be removed after 2017-03-02.\n",
      "Instructions for updating:\n",
      "Use `tf.global_variables_initializer` instead.\n",
      "Epoch: 0001 cost= 0.275750875 W= 0.349061 b= 0.779824\n",
      "Epoch: 0051 cost= 0.077051528 W= 0.254186 b= 0.768432\n",
      "Epoch: 0101 cost= 0.077044114 W= 0.253912 b= 0.770398\n",
      "Epoch: 0151 cost= 0.077037595 W= 0.253655 b= 0.772248\n",
      "Epoch: 0201 cost= 0.077031851 W= 0.253414 b= 0.773986\n",
      "Epoch: 0251 cost= 0.077026784 W= 0.253186 b= 0.775622\n",
      "Epoch: 0301 cost= 0.077022344 W= 0.252972 b= 0.777161\n",
      "Epoch: 0351 cost= 0.077018410 W= 0.252771 b= 0.778608\n",
      "Epoch: 0401 cost= 0.077014938 W= 0.252582 b= 0.779968\n",
      "Epoch: 0451 cost= 0.077011906 W= 0.252404 b= 0.781247\n",
      "Epoch: 0501 cost= 0.077009223 W= 0.252237 b= 0.782451\n",
      "Epoch: 0551 cost= 0.077006862 W= 0.252079 b= 0.783584\n",
      "Epoch: 0601 cost= 0.077004813 W= 0.251931 b= 0.78465\n",
      "Epoch: 0651 cost= 0.077002972 W= 0.251792 b= 0.785652\n",
      "Epoch: 0701 cost= 0.077001393 W= 0.251661 b= 0.786591\n",
      "Epoch: 0751 cost= 0.076999977 W= 0.251539 b= 0.787473\n",
      "Epoch: 0801 cost= 0.076998770 W= 0.251423 b= 0.788305\n",
      "Epoch: 0851 cost= 0.076997705 W= 0.251315 b= 0.789085\n",
      "Epoch: 0901 cost= 0.076996751 W= 0.251212 b= 0.789822\n",
      "Epoch: 0951 cost= 0.076995946 W= 0.251116 b= 0.790514\n",
      "Epoch: 1001 cost= 0.076995194 W= 0.251026 b= 0.791164\n",
      "Epoch: 1051 cost= 0.076994576 W= 0.250941 b= 0.791776\n",
      "Epoch: 1101 cost= 0.076994032 W= 0.250861 b= 0.792352\n",
      "Epoch: 1151 cost= 0.076993532 W= 0.250786 b= 0.792891\n",
      "Epoch: 1201 cost= 0.076993130 W= 0.250715 b= 0.793399\n",
      "Epoch: 1251 cost= 0.076992773 W= 0.250648 b= 0.793878\n",
      "Epoch: 1301 cost= 0.076992452 W= 0.250586 b= 0.794328\n",
      "Epoch: 1351 cost= 0.076992169 W= 0.250527 b= 0.794751\n",
      "Epoch: 1401 cost= 0.076991946 W= 0.250472 b= 0.795149\n",
      "Epoch: 1451 cost= 0.076991729 W= 0.25042 b= 0.795523\n",
      "Epoch: 1501 cost= 0.076991543 W= 0.250371 b= 0.795875\n",
      "Epoch: 1551 cost= 0.076991394 W= 0.250325 b= 0.796207\n",
      "Epoch: 1601 cost= 0.076991253 W= 0.250281 b= 0.796523\n",
      "Epoch: 1651 cost= 0.076991141 W= 0.25024 b= 0.796816\n",
      "Epoch: 1701 cost= 0.076991051 W= 0.250202 b= 0.79709\n",
      "Epoch: 1751 cost= 0.076990977 W= 0.250166 b= 0.797349\n",
      "Epoch: 1801 cost= 0.076990888 W= 0.250132 b= 0.797595\n",
      "Epoch: 1851 cost= 0.076990813 W= 0.2501 b= 0.797825\n",
      "Epoch: 1901 cost= 0.076990783 W= 0.25007 b= 0.798043\n",
      "Epoch: 1951 cost= 0.076990746 W= 0.250041 b= 0.798247\n",
      "Optimization Finished!\n",
      "cost= 0.0769907 W= 0.250015 b= 0.798432\n"
     ]
    },
    {
     "data": {
      "image/png": "[encoded data removed]",
      "text/plain": [
       "<matplotlib.figure.Figure at 0x9640ba8>"
      ]
     },
     "metadata": {},
     "output_type": "display_data"
    }
   ],
   "source": [
    "__author__ = 'han'\n",
    "import tensorflow as tf\n",
    "import numpy\n",
    "import matplotlib.pyplot as plt\n",
    "rng = numpy.random\n",
    "\n",
    "# Parameters\n",
    "learning_rate = 0.01\n",
    "training_epochs = 2000\n",
    "display_step = 50\n",
    "\n",
    "# Training Data\n",
    "train_X = numpy.asarray([3.3,4.4,5.5,6.71,6.93,4.168,9.779,6.182,7.59,2.167,7.042,10.791,5.313,7.997,5.654,9.27,3.1])\n",
    "train_Y = numpy.asarray([1.7,2.76,2.09,3.19,1.694,1.573,3.366,2.596,2.53,1.221,2.827,3.465,1.65,2.904,2.42,2.94,1.3])\n",
    "n_samples = train_X.shape[0]\n",
    "\n",
    "# tf Graph Input\n",
    "X = tf.placeholder(\"float\")\n",
    "Y = tf.placeholder(\"float\")\n",
    "\n",
    "# Create Model\n",
    "\n",
    "# Set model weights\n",
    "W = tf.Variable(rng.random(), name=\"weight\")\n",
    "b = tf.Variable(rng.random(), name=\"bias\")\n",
    "\n",
    "# Construct a linear model\n",
    "activation = tf.add(tf.multiply(X, W), b)\n",
    "\n",
    "# Minimize the squared errors\n",
    "cost = tf.reduce_sum(tf.pow(activation-Y, 2))/(2*n_samples) #L2 loss\n",
    "optimizer = tf.train.GradientDescentOptimizer(learning_rate).minimize(cost) #Gradient descent\n",
    "\n",
    "# Initializing the variables\n",
    "init = tf.initialize_all_variables()\n",
    "\n",
    "# Launch the graph\n",
    "with tf.Session() as sess:\n",
    "    sess.run(init)\n",
    "\n",
    "    # Fit all training data\n",
    "    for epoch in range(training_epochs):\n",
    "        for (x, y) in zip(train_X, train_Y):\n",
    "            sess.run(optimizer, feed_dict={X: x, Y: y})\n",
    "\n",
    "        #Display logs per epoch step\n",
    "        if epoch % display_step == 0:\n",
    "            print (\"Epoch:\", '%04d' % (epoch+1), \"cost=\", \\\n",
    "                \"{:.9f}\".format(sess.run(cost, feed_dict={X: train_X, Y:train_Y})), \\\n",
    "                \"W=\", sess.run(W), \"b=\", sess.run(b))\n",
    "\n",
    "    print (\"Optimization Finished!\")\n",
    "    print (\"cost=\", sess.run(cost, feed_dict={X: train_X, Y: train_Y}), \\\n",
    "          \"W=\", sess.run(W), \"b=\", sess.run(b))\n",
    "\n",
    "    #Graphic display\n",
    "    plt.plot(train_X, train_Y, 'ro', label='Original data')\n",
    "    plt.plot(train_X, sess.run(W) * train_X + sess.run(b), label='Fitted line')\n",
    "    plt.legend()\n",
    "    plt.show()"
   ]
  },
  {
   "cell_type": "code",
   "execution_count": null,
   "metadata": {
    "collapsed": true
   },
   "outputs": [],
   "source": []
  }
 ],
 "metadata": {
  "kernelspec": {
   "display_name": "Python 3",
   "language": "python",
   "name": "python3"
  },
  "language_info": {
   "codemirror_mode": {
    "name": "ipython",
    "version": 3
   },
   "file_extension": ".py",
   "mimetype": "text/x-python",
   "name": "python",
   "nbconvert_exporter": "python",
   "pygments_lexer": "ipython3",
   "version": "3.5.2"
  }
 },
 "nbformat": 4,
 "nbformat_minor": 2
}
