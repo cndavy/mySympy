{
 "cells": [
  {
   "cell_type": "code",
   "execution_count": null,
   "metadata": {
    "collapsed": true
   },
   "outputs": [],
   "source": []
  },
  {
   "cell_type": "code",
   "execution_count": null,
   "metadata": {
    "collapsed": false
   },
   "outputs": [],
   "source": [
    "from sympy import * \n",
    "from math import pi\n",
    "r, D ,H1 ,H3, n,Q0 = symbols('r D H1 H3 n Q0')\n",
    "E,H1, S, L1, L3, a ,M,Q= symbols('E H1 S L1 L3 a M Q')\n",
    "solve([ Eq( r,3.14*D/H3 ),Eq( Q0, (n(3.14*D))**2/(H3)**2 ) ,Eq(r,93),\n",
    "      \n",
    "      Eq(E,3), Eq(E,(D-H1)*H1 /((D-H3)*H3) )\n",
    "    , Eq(L3,72*D*H3**3/(Q*n))\n",
    "      \n",
    "      ] , {  D ,H1 ,H3,  Q0,E,Q,r,n} )"
   ]
  },
  {
   "cell_type": "code",
   "execution_count": null,
   "metadata": {
    "collapsed": true
   },
   "outputs": [],
   "source": []
  }
 ],
 "metadata": {
  "kernelspec": {
   "display_name": "Python 3",
   "language": "python",
   "name": "python3"
  },
  "language_info": {
   "codemirror_mode": {
    "name": "ipython",
    "version": 3
   },
   "file_extension": ".py",
   "mimetype": "text/x-python",
   "name": "python",
   "nbconvert_exporter": "python",
   "pygments_lexer": "ipython3",
   "version": "3.5.2"
  }
 },
 "nbformat": 4,
 "nbformat_minor": 2
}
