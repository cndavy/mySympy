{
 "cells": [
  {
   "cell_type": "code",
   "execution_count": 12,
   "metadata": {
    "collapsed": false
   },
   "outputs": [
    {
     "data": {
      "text/plain": [
       "{Ta: (T1*(d*k2 + k1*l) + T2*d*k2)/(2*d*k2 + k1*l),\n",
       " Tb: (T1*d*k2 + T2*(d*k2 + k1*l))/(2*d*k2 + k1*l),\n",
       " Q: k1*k2*(T1 - T2)/(2*d*k2 + k1*l)}"
      ]
     },
     "execution_count": 12,
     "metadata": {},
     "output_type": "execute_result"
    }
   ],
   "source": [
    "from __future__ import division#计算数学模型 P28 双层玻璃的传导\n",
    "from sympy import *\n",
    "Q, k1,k2,T1,T2,d,l,Ta,Tb = symbols('Q  k1 k2 T1 T2 d l Ta Tb')\n",
    "solve([Eq(Q,k1*(T1-Ta)/d ), Eq(Q,k2*(Ta-Tb)/l ),Eq(Q,k1*(Tb-T2)/d ) ],{Q,Ta  ,Tb})"
   ]
  },
  {
   "cell_type": "code",
   "execution_count": 13,
   "metadata": {
    "collapsed": true
   },
   "outputs": [],
   "source": [
    " Q= k1*k2*(T1 - T2)/(2*d*k2 + k1*l)"
   ]
  },
  {
   "cell_type": "markdown",
   "metadata": {},
   "source": [
    "#计算数学模型 P28 双层玻璃的传导"
   ]
  },
  {
   "cell_type": "code",
   "execution_count": null,
   "metadata": {
    "collapsed": true
   },
   "outputs": [],
   "source": [
    "#计算数学模型 P10  药物吸收"
   ]
  },
  {
   "cell_type": "code",
   "execution_count": 19,
   "metadata": {
    "collapsed": false
   },
   "outputs": [
    {
     "name": "stdout",
     "output_type": "stream",
     "text": [
      "Eq(f(x), C1*exp(-h*x))\n"
     ]
    }
   ],
   "source": [
    "from sympy import *\n",
    "f = Function('f')\n",
    "x = Symbol('x')\n",
    "h = Symbol('h')\n",
    "expr=dsolve(diff(f(x),x) + h*f(x),f(x))\n",
    "#expr.subs(C1,1100)\n",
    "print(expr)\n",
    "#print (dsolve(diff(f(x),x) + h*f(x),f(x)))\n"
   ]
  },
  {
   "cell_type": "code",
   "execution_count": 38,
   "metadata": {
    "collapsed": false
   },
   "outputs": [
    {
     "name": "stdout",
     "output_type": "stream",
     "text": [
      "Eq(f(t), (C1 - 6600.0*exp(-0.0231*t))*exp(-0.1155*t))\n"
     ]
    }
   ],
   "source": [
    "from sympy import *\n",
    "f = Function('f')\n",
    "g = Function('g')\n",
    "t = Symbol('t')\n",
    "#h = Symbol('h')\n",
    "#u = Symbol('u')\n",
    "var('h u')\n",
    "#g=1100*exp(-h*t)\n",
    "h=0.1386\n",
    "u=0.1155\n",
    "expr=dsolve(diff(f(t),t) - h*(1100*exp(-h*t)) + u*f(t),f(t))\n",
    "#expr.subs(C1,1100)\n",
    "print(expr)"
   ]
  },
  {
   "cell_type": "code",
   "execution_count": 39,
   "metadata": {
    "collapsed": false
   },
   "outputs": [
    {
     "data": {
      "text/plain": [
       "914.76*exp(-0.1386*t) - 762.3*exp(-0.1155*t)"
      ]
     },
     "execution_count": 39,
     "metadata": {},
     "output_type": "execute_result"
    }
   ],
   "source": [
    "diff(1100*h*(exp(-u*t)-exp(-h*t))/(h-u),t)"
   ]
  },
  {
   "cell_type": "code",
   "execution_count": 40,
   "metadata": {
    "collapsed": false
   },
   "outputs": [
    {
     "data": {
      "text/plain": [
       "914.76*exp(-0.1386*t) - 762.3*exp(-0.1155*t)"
      ]
     },
     "execution_count": 40,
     "metadata": {},
     "output_type": "execute_result"
    }
   ],
   "source": [
    "h*1100*exp(-h*t)-u*(1100*h*(exp(-u*t)-exp(-h*t))/(h-u))\n"
   ]
  },
  {
   "cell_type": "code",
   "execution_count": 41,
   "metadata": {
    "collapsed": true
   },
   "outputs": [],
   "source": [
    "x=1100*exp(-h*t)"
   ]
  },
  {
   "cell_type": "code",
   "execution_count": 42,
   "metadata": {
    "collapsed": false
   },
   "outputs": [
    {
     "data": {
      "text/plain": [
       "1100*exp(-0.1386*t)"
      ]
     },
     "execution_count": 42,
     "metadata": {},
     "output_type": "execute_result"
    }
   ],
   "source": [
    "x"
   ]
  },
  {
   "cell_type": "code",
   "execution_count": 44,
   "metadata": {
    "collapsed": false
   },
   "outputs": [
    {
     "name": "stdout",
     "output_type": "stream",
     "text": [
      "Eq(f(t), (C1 - 6600.0*exp(-0.0231*t))*exp(-0.1155*t))\n"
     ]
    }
   ],
   "source": [
    "print(dsolve(diff(f(t),t) - h*(x) + u*f(t),f(t))\n",
    "\n",
    ")"
   ]
  },
  {
   "cell_type": "code",
   "execution_count": 117,
   "metadata": {
    "collapsed": false
   },
   "outputs": [
    {
     "data": {
      "text/plain": [
       "[6600.00000000000]"
      ]
     },
     "execution_count": 117,
     "metadata": {},
     "output_type": "execute_result"
    }
   ],
   "source": [
    "from sympy import *\n",
    "t=0\n",
    "C1=Symbol('C1')\n",
    "#y=(C1 - 6600.0*exp(-0.0231*t))*exp(-0.1155*t)\n",
    "solve((C1 - 6600.0*exp(-0.0231*t))*exp(-0.1155*t),C1)"
   ]
  },
  {
   "cell_type": "code",
   "execution_count": null,
   "metadata": {
    "collapsed": true
   },
   "outputs": [],
   "source": [
    "from pylab import *  \n",
    "  \n",
    "figure(figsize=(8,5), dpi=80)  \n",
    " \n",
    "x = np.linspace(0, 24,25, endpoint=True)  \n",
    " \n",
    "Y1=(6600 - 6600.0*exp(-0.0231*x))*exp(-0.1155*x) \n",
    "Y2=6600.0*(-1*exp(-0.13861*x)+exp(-0.1155*x)  )  \n",
    "X1=1100*exp(-h*x) \n",
    "plot(x, Y1 )  \n",
    "\n",
    "plot(x, Y2 )  \n",
    "plot(x, X1) \n",
    "show()   "
   ]
  },
  {
   "cell_type": "code",
   "execution_count": 95,
   "metadata": {
    "collapsed": false
   },
   "outputs": [
    {
     "data": {
      "text/plain": [
       "array([   0.        ,  134.2729274 ,  236.52132678,  312.48755706,\n",
       "        366.99651143,  404.09336832,  427.16144055,  439.02292474,\n",
       "        442.02496549,  438.11311454,  428.89397622,  415.68858121,\n",
       "        399.5778156 ,  381.44104652,  361.9889257 ,  341.79121416,\n",
       "        321.30035256,  300.87139881,  280.77886693,  261.23092445,\n",
       "        242.38134087,  224.33952292,  207.1789244 ,  190.94407655,\n",
       "        175.65644916])"
      ]
     },
     "execution_count": 95,
     "metadata": {},
     "output_type": "execute_result"
    }
   ],
   "source": [
    "x = np.linspace(0, 24,25, endpoint=True) \n",
    "apart((6600 - 6600.0*exp(-0.0231*x))*exp(-0.1155*x))"
   ]
  },
  {
   "cell_type": "code",
   "execution_count": 96,
   "metadata": {
    "collapsed": false
   },
   "outputs": [
    {
     "data": {
      "text/plain": [
       "array([   0.        ,  134.33038514,  236.62136897,  312.61819792,\n",
       "        367.14815444,  404.25838848,  427.33383484,  439.19801995,\n",
       "        442.19917459,  438.28373377,  429.05901655,  415.84662862,\n",
       "        399.72791555,  381.58260871,  362.12164575,  341.91500953,\n",
       "        321.41531017,  300.9777326 ,  280.87688349,  261.3209955 ,\n",
       "        242.4638812 ,  224.41497307,  207.24773702,  191.0067059 ,\n",
       "        175.71334309])"
      ]
     },
     "execution_count": 96,
     "metadata": {},
     "output_type": "execute_result"
    }
   ],
   "source": [
    "apart(6600.0*(-1*exp(-0.13861*x)+exp(-0.1155*x)  )  )"
   ]
  },
  {
   "cell_type": "code",
   "execution_count": 102,
   "metadata": {
    "collapsed": false
   },
   "outputs": [
    {
     "data": {
      "text/plain": [
       "array([   0.        ,  134.2729274 ,  236.52132678,  312.48755706,\n",
       "        366.99651143,  404.09336832,  427.16144055,  439.02292474,\n",
       "        442.02496549,  438.11311454,  428.89397622,  415.68858121,\n",
       "        399.5778156 ,  381.44104652,  361.9889257 ,  341.79121416,\n",
       "        321.30035256,  300.87139881,  280.77886693,  261.23092445,\n",
       "        242.38134087,  224.33952292,  207.1789244 ,  190.94407655,\n",
       "        175.65644916])"
      ]
     },
     "execution_count": 102,
     "metadata": {},
     "output_type": "execute_result"
    }
   ],
   "source": [
    " xp(-0.0231*x) *exp(-0.1155*x) "
   ]
  },
  {
   "cell_type": "code",
   "execution_count": 122,
   "metadata": {
    "collapsed": false
   },
   "outputs": [
    {
     "data": {
      "text/plain": [
       "[-2*sqrt(3255)/5, 2*sqrt(3255)/5]"
      ]
     },
     "execution_count": 122,
     "metadata": {},
     "output_type": "execute_result"
    }
   ],
   "source": [
    "#P37 \n",
    "S=Symbol('S')\n",
    "l=Symbol('l')\n",
    "solve(diff((126480+500*l+260400/l),l),l)"
   ]
  },
  {
   "cell_type": "code",
   "execution_count": 135,
   "metadata": {
    "collapsed": false
   },
   "outputs": [
    {
     "name": "stdout",
     "output_type": "stream",
     "text": [
      "l=22.821043 \n"
     ]
    }
   ],
   "source": [
    "print(\"l=%f \"  % (2*sqrt(3255)/5))"
   ]
  },
  {
   "cell_type": "code",
   "execution_count": 136,
   "metadata": {
    "collapsed": false
   },
   "outputs": [
    {
     "name": "stdout",
     "output_type": "stream",
     "text": [
      "149301.042921\n"
     ]
    }
   ],
   "source": [
    "l=(2*sqrt(3255)/5)\n",
    "S=(126480+500*l+260400/l)\n",
    "print(\"%f\" % S)"
   ]
  },
  {
   "cell_type": "code",
   "execution_count": 148,
   "metadata": {
    "collapsed": false
   },
   "outputs": [
    {
     "name": "stdout",
     "output_type": "stream",
     "text": [
      "sqrt((d3 + d4)/c)\n"
     ]
    }
   ],
   "source": [
    "#P40\n",
    "N,t0,c,v,d3,d4=symbols('N t0 c v d3 d4')\n",
    "N=1000/(\n",
    "t0/3.6 +c*v+(d3+d4)/v\n",
    "\n",
    ") \n",
    "vv=solve(diff(N  ,v) ,v)[1]  #获取正根\n",
    "print (vv)"
   ]
  },
  {
   "cell_type": "code",
   "execution_count": 149,
   "metadata": {
    "collapsed": false
   },
   "outputs": [
    {
     "data": {
      "text/plain": [
       "1000/(c*sqrt((d3 + d4)/c) + 0.277777777777778*t0 + (d3 + d4)/sqrt((d3 + d4)/c))"
      ]
     },
     "execution_count": 149,
     "metadata": {},
     "output_type": "execute_result"
    }
   ],
   "source": [
    "N.subs(v,vv)# 替换"
   ]
  },
  {
   "cell_type": "code",
   "execution_count": 151,
   "metadata": {
    "collapsed": false
   },
   "outputs": [
    {
     "data": {
      "text/plain": [
       "1000.0*sqrt((d3 + d4)/c)/(2.0*d3 + 2.0*d4 + 0.277777777777778*t0*sqrt((d3 + d4)/c))"
      ]
     },
     "execution_count": 151,
     "metadata": {},
     "output_type": "execute_result"
    }
   ],
   "source": [
    "simplify(N.subs(v,vv))"
   ]
  },
  {
   "cell_type": "code",
   "execution_count": 152,
   "metadata": {
    "collapsed": false
   },
   "outputs": [
    {
     "name": "stdout",
     "output_type": "stream",
     "text": [
      "                           _________                \n",
      "                          ╱ d₃ + d₄                 \n",
      "                1000.0⋅  ╱  ───────                 \n",
      "                       ╲╱      c                    \n",
      "────────────────────────────────────────────────────\n",
      "                                           _________\n",
      "                                          ╱ d₃ + d₄ \n",
      "2.0⋅d₃ + 2.0⋅d₄ + 0.277777777777778⋅t₀⋅  ╱  ─────── \n",
      "                                       ╲╱      c    \n"
     ]
    }
   ],
   "source": [
    "pprint(simplify(N.subs(v,vv)))"
   ]
  },
  {
   "cell_type": "code",
   "execution_count": null,
   "metadata": {
    "collapsed": true
   },
   "outputs": [],
   "source": []
  }
 ],
 "metadata": {
  "kernelspec": {
   "display_name": "Python 3",
   "language": "python",
   "name": "python3"
  },
  "language_info": {
   "codemirror_mode": {
    "name": "ipython",
    "version": 3
   },
   "file_extension": ".py",
   "mimetype": "text/x-python",
   "name": "python",
   "nbconvert_exporter": "python",
   "pygments_lexer": "ipython3",
   "version": "3.5.2"
  }
 },
 "nbformat": 4,
 "nbformat_minor": 0
}
