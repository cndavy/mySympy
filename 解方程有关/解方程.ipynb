{
 "cells": [
  {
   "cell_type": "code",
   "execution_count": 43,
   "metadata": {
    "collapsed": false
   },
   "outputs": [
    {
     "data": {
      "text/plain": [
       "{t: 24, x: 39, z: 12, y: 21}"
      ]
     },
     "execution_count": 43,
     "metadata": {},
     "output_type": "execute_result"
    }
   ],
   "source": [
    "from __future__ import division\n",
    "from sympy import *\n",
    "x = Symbol('x')\n",
    "y = Symbol('y')\n",
    "z = Symbol('z')\n",
    "t = Symbol('t')\n",
    "solve([Eq(4*(x-y-z),t),Eq(2*(3*y-z-x),t),Eq(7*z-x-y,t),Eq(x+y+z,72)],[x,y,z,t])\n",
    " "
   ]
  },
  {
   "cell_type": "code",
   "execution_count": 4,
   "metadata": {
    "collapsed": false
   },
   "outputs": [
    {
     "data": {
      "text/plain": [
       "[{I2: (V1 + V2 - 2*V3)/Rt,\n",
       "  I: (V1 + V2 - 2*V3)/Rt,\n",
       "  R: -Rt*(V2 - V3)/(V1 + V2 - 2*V3),\n",
       "  I3: 0}]"
      ]
     },
     "execution_count": 4,
     "metadata": {},
     "output_type": "execute_result"
    }
   ],
   "source": [
    "from sympy import *\n",
    "I , I2 , I3 = symbols('I I2 I3')\n",
    "R ,Rt = symbols('R Rt') \n",
    "V1,V2,V3 = symbols('V1 V2 V3')\n",
    "solve([ Eq(I*R+I*Rt +I2*R,V1-V2),Eq(I*R+I*Rt +I3*R,V1-V3),Eq(I,I2+I3),Eq(-I3*R+I2*R,V3-V2 ),Eq(I3,0)]  ,\n",
    "       { I2 , I3,R ,Rt  ,I} )"
   ]
  },
  {
   "cell_type": "code",
   "execution_count": 39,
   "metadata": {
    "collapsed": false
   },
   "outputs": [
    {
     "data": {
      "text/plain": [
       "[{V3: 0.0,\n",
       "  I: -0.001*V1 + 0.00125,\n",
       "  Rt: 4000.0*(-V1 + 2.0*V2)/(4.0*V1 - 5.0),\n",
       "  RL: -4000.0*V2/(4.0*V1 - 5.0)}]"
      ]
     },
     "execution_count": 39,
     "metadata": {},
     "output_type": "execute_result"
    }
   ],
   "source": [
    "from sympy import *\n",
    "I , I2 , I3 = symbols('I I2 I3')\n",
    "RL ,Rt = symbols('RL Rt') \n",
    "V1,V2,V3 = symbols('V1 V2 V3')\n",
    "solve([ Eq(V1,(2*RL+Rt)*I ) ,Eq(V2,RL*I),Eq(I,1.25/(1000+2*RL+Rt)),Eq(V3,0)]  ,\n",
    "       {I2 ,Rt ,I3 ,RL ,I ,V3 } )"
   ]
  },
  {
   "cell_type": "code",
   "execution_count": 38,
   "metadata": {
    "collapsed": false
   },
   "outputs": [
    {
     "name": "stdout",
     "output_type": "stream",
     "text": [
      "133.3333333333333\n"
     ]
    }
   ],
   "source": [
    "V1=0.5\n",
    "V2=0.2 \n",
    "Rt=4000.0*(-V1 + 2.0*V2)/(4.0*V1 - 5.0)\n",
    "print(Rt)   "
   ]
  },
  {
   "cell_type": "code",
   "execution_count": 45,
   "metadata": {
    "collapsed": false
   },
   "outputs": [
    {
     "data": {
      "text/plain": [
       "{x_1: 5*x_3/4, x_0: x_3/4, x_2: 3*x_3/4}"
      ]
     },
     "execution_count": 45,
     "metadata": {},
     "output_type": "execute_result"
    }
   ],
   "source": [
    "from sympy import *\n",
    "\n",
    "a = Matrix([[3,0,-1,0],[8,0,0,-2], [0,2,-2,-1]])\n",
    "x = symarray('x', 4)\n",
    "solve(a*x)"
   ]
  },
  {
   "cell_type": "code",
   "execution_count": 46,
   "metadata": {
    "collapsed": false
   },
   "outputs": [
    {
     "name": "stdout",
     "output_type": "stream",
     "text": [
      "{x: 2, y: 1}\n"
     ]
    }
   ],
   "source": [
    "'''\n",
    "解普通方程\n",
    "'''\n",
    "from sympy import *\n",
    "x = Symbol('x')\n",
    "y = Symbol('y')\n",
    "print (solve([2 * x - y - 3, 3 * x + y - 7],[x, y]))"
   ]
  },
  {
   "cell_type": "code",
   "execution_count": 47,
   "metadata": {
    "collapsed": false
   },
   "outputs": [
    {
     "name": "stdout",
     "output_type": "stream",
     "text": [
      "E\n"
     ]
    }
   ],
   "source": [
    "'''\n",
    "解微积分 \n",
    "'''\n",
    "from sympy import *\n",
    "n = Symbol('n')\n",
    "s = ((n+3)/(n+2))**n\n",
    "\n",
    "#无穷为两个小写o\n",
    "\n",
    "print (limit(s, n, oo))"
   ]
  },
  {
   "cell_type": "code",
   "execution_count": 48,
   "metadata": {
    "collapsed": false
   },
   "outputs": [
    {
     "name": "stdout",
     "output_type": "stream",
     "text": [
      "2\n"
     ]
    }
   ],
   "source": [
    "from sympy import *\n",
    "t = Symbol('t')\n",
    "x = Symbol('x')\n",
    "m = integrate(sin(t)/(pi-t),(t,0,x))\n",
    "n = integrate(m,(x,0,pi))\n",
    "print(n)"
   ]
  },
  {
   "cell_type": "code",
   "execution_count": 49,
   "metadata": {
    "collapsed": false
   },
   "outputs": [
    {
     "name": "stdout",
     "output_type": "stream",
     "text": [
      "Eq(f(x), C1*exp(x**2))\n"
     ]
    }
   ],
   "source": [
    "\n",
    "#y' = 2xy  的通解\n",
    "\n",
    "from sympy import *\n",
    "f = Function('f')\n",
    "x = Symbol('x')\n",
    "print (dsolve(diff(f(x),x) - 2*f(x)*x,f(x)))\n",
    "\n",
    "\n",
    "#说明：\n",
    "\n",
    "#f = Function('f')\n",
    "#x = Symbol('x')\n",
    "\n",
    "#表示f(x)的导：\n",
    "\n",
    "#diff(f(x), x, index)    \n",
    "#>>> diff(sin(x), x, 1)\n",
    "#cos(x)\n",
    "\n",
    "#dsolve(eq, f(x))\n",
    "    #第一个参数为微分方程（要先将等式移项为右端为0的形式)\n",
    "    #第二个参数为要解的函数(在微分方程中)"
   ]
  },
  {
   "cell_type": "code",
   "execution_count": 50,
   "metadata": {
    "collapsed": false
   },
   "outputs": [
    {
     "name": "stdout",
     "output_type": "stream",
     "text": [
      "a11 + 2*a12 + 2*a13 + a22 + 2*a23 + a33\n",
      "Matrix([[x1*(a11*x1 + a12*x2 + a13*x3) + x2*(a12*x1 + a22*x2 + a23*x3) + x3*(a13*x1 + a23*x2 + a33*x3)]])\n"
     ]
    }
   ],
   "source": [
    "'''\n",
    "矩阵化简\n",
    "'''\n",
    "from sympy import *\n",
    "x1,x2,x3 = symbols('x1 x2 x3')\n",
    "a11,a12,a13,a22,a23,a33 = symbols('a11 a12 a13 a22 a23 a33')\n",
    "m = Matrix([[x1,x2,x3]])\n",
    "n = Matrix([[a11,a12,a13],[a12,a22,a23],[a13,a23,a33]])\n",
    "v = Matrix([[x1],[x2],[x3]])\n",
    "f = m * n * v\n",
    "#f[0] 化简， subs代入计算\n",
    "print (f[0].subs({x1:1, x2:1, x3:1}))\n",
    "print (f  )"
   ]
  },
  {
   "cell_type": "code",
   "execution_count": 51,
   "metadata": {
    "collapsed": false
   },
   "outputs": [
    {
     "data": {
      "text/plain": [
       "1"
      ]
     },
     "execution_count": 51,
     "metadata": {},
     "output_type": "execute_result"
    }
   ],
   "source": [
    "from sympy.abc import theta, phi\n",
    "x=Symbol(\"x\")\n",
    "\n",
    "limit(sin(x)/x, x, 0)\n"
   ]
  },
  {
   "cell_type": "code",
   "execution_count": 52,
   "metadata": {
    "collapsed": false
   },
   "outputs": [
    {
     "data": {
      "text/plain": [
       "oo"
      ]
     },
     "execution_count": 52,
     "metadata": {},
     "output_type": "execute_result"
    }
   ],
   "source": [
    "limit(x, x, oo)"
   ]
  },
  {
   "cell_type": "code",
   "execution_count": 53,
   "metadata": {
    "collapsed": false
   },
   "outputs": [
    {
     "data": {
      "text/plain": [
       "1"
      ]
     },
     "execution_count": 53,
     "metadata": {},
     "output_type": "execute_result"
    }
   ],
   "source": [
    "limit(x**x, x, 0)"
   ]
  },
  {
   "cell_type": "code",
   "execution_count": 54,
   "metadata": {
    "collapsed": false
   },
   "outputs": [
    {
     "data": {
      "text/plain": [
       "E"
      ]
     },
     "execution_count": 54,
     "metadata": {},
     "output_type": "execute_result"
    }
   ],
   "source": [
    "limit(((1+x)/x)**x, x, oo)"
   ]
  },
  {
   "cell_type": "code",
   "execution_count": 62,
   "metadata": {
    "collapsed": false
   },
   "outputs": [
    {
     "name": "stdout",
     "output_type": "stream",
     "text": [
      "                           ⎛  2           ⎞│         ⎛  3           ⎞│        \n",
      "                         2 ⎜ d            ⎟│       3 ⎜ d            ⎟│       4\n",
      "                        x ⋅⎜───(Mod(x, 2))⎟│      x ⋅⎜───(Mod(x, 2))⎟│      x \n",
      "                           ⎜  2           ⎟│         ⎜  3           ⎟│        \n",
      "  ⎛d            ⎞│         ⎝dx            ⎠│x=0      ⎝dx            ⎠│x=0     \n",
      "x⋅⎜──(Mod(x, 2))⎟│    + ─────────────────────── + ─────────────────────── + ──\n",
      "  ⎝dx           ⎠│x=0              2                         6                \n",
      "\n",
      " ⎛  4           ⎞│         ⎛  5           ⎞│         ⎛  6           ⎞│        \n",
      " ⎜ d            ⎟│       5 ⎜ d            ⎟│       6 ⎜ d            ⎟│       7\n",
      "⋅⎜───(Mod(x, 2))⎟│      x ⋅⎜───(Mod(x, 2))⎟│      x ⋅⎜───(Mod(x, 2))⎟│      x \n",
      " ⎜  4           ⎟│         ⎜  5           ⎟│         ⎜  6           ⎟│        \n",
      " ⎝dx            ⎠│x=0      ⎝dx            ⎠│x=0      ⎝dx            ⎠│x=0     \n",
      "───────────────────── + ─────────────────────── + ─────────────────────── + ──\n",
      "         24                       120                       720               \n",
      "\n",
      " ⎛  7           ⎞│         ⎛  8           ⎞│         ⎛  9           ⎞│        \n",
      " ⎜ d            ⎟│       8 ⎜ d            ⎟│       9 ⎜ d            ⎟│        \n",
      "⋅⎜───(Mod(x, 2))⎟│      x ⋅⎜───(Mod(x, 2))⎟│      x ⋅⎜───(Mod(x, 2))⎟│        \n",
      " ⎜  7           ⎟│         ⎜  8           ⎟│         ⎜  9           ⎟│        \n",
      " ⎝dx            ⎠│x=0      ⎝dx            ⎠│x=0      ⎝dx            ⎠│x=0    ⎛\n",
      "───────────────────── + ─────────────────────── + ─────────────────────── + O⎝\n",
      "        5040                     40320                     362880             \n",
      "\n",
      "    \n",
      "    \n",
      "    \n",
      "    \n",
      " 10⎞\n",
      "x  ⎠\n",
      "    \n"
     ]
    }
   ],
   "source": [
    "from __future__ import division\n",
    "from sympy import *\n",
    "f = Function('f')\n",
    "x = Symbol('x',integer=True)\n",
    "\n",
    "pprint((x % 2 ).series(x, 0, 10))"
   ]
  },
  {
   "cell_type": "code",
   "execution_count": 64,
   "metadata": {
    "collapsed": false
   },
   "outputs": [
    {
     "name": "stdout",
     "output_type": "stream",
     "text": [
      "    1       1  \n",
      "- ───── + ─────\n",
      "  x + 2   x + 1\n"
     ]
    }
   ],
   "source": [
    "pprint(apart(1/( (x+2)*(x+1) ), x))"
   ]
  },
  {
   "cell_type": "code",
   "execution_count": 65,
   "metadata": {
    "collapsed": false
   },
   "outputs": [
    {
     "data": {
      "text/plain": [
       "1 + 2/(x - 1)"
      ]
     },
     "execution_count": 65,
     "metadata": {},
     "output_type": "execute_result"
    }
   ],
   "source": [
    "#展开式\n",
    "apart((x+1)/(x-1), x)"
   ]
  },
  {
   "cell_type": "code",
   "execution_count": 67,
   "metadata": {
    "collapsed": false
   },
   "outputs": [
    {
     "data": {
      "text/plain": [
       "(x*y + x*z + y*z)/(x*y*z)"
      ]
     },
     "execution_count": 67,
     "metadata": {},
     "output_type": "execute_result"
    }
   ],
   "source": [
    "#合并 \n",
    "together(1/x + 1/y + 1/z)"
   ]
  },
  {
   "cell_type": "code",
   "execution_count": 70,
   "metadata": {
    "collapsed": false
   },
   "outputs": [
    {
     "data": {
      "text/plain": [
       "(r1 + r2)/(r1*r2)"
      ]
     },
     "execution_count": 70,
     "metadata": {},
     "output_type": "execute_result"
    }
   ],
   "source": [
    "r1,r2 = symbols('r1 r2')\n",
    "together(1/r1+1/r2)"
   ]
  },
  {
   "cell_type": "code",
   "execution_count": 71,
   "metadata": {
    "collapsed": false
   },
   "outputs": [
    {
     "data": {
      "text/plain": [
       "1/r2 + 1/r1"
      ]
     },
     "execution_count": 71,
     "metadata": {},
     "output_type": "execute_result"
    }
   ],
   "source": [
    "(1/r1+1/r2)"
   ]
  },
  {
   "cell_type": "code",
   "execution_count": 72,
   "metadata": {
    "collapsed": false
   },
   "outputs": [
    {
     "data": {
      "text/plain": [
       "1 - x**2/2 + x**4/24 - x**6/720 + x**8/40320 + O(x**10)"
      ]
     },
     "execution_count": 72,
     "metadata": {},
     "output_type": "execute_result"
    }
   ],
   "source": [
    "cos(x).series(x, 0, 10)"
   ]
  },
  {
   "cell_type": "code",
   "execution_count": 73,
   "metadata": {
    "collapsed": false
   },
   "outputs": [
    {
     "data": {
      "text/plain": [
       "-sin(x)"
      ]
     },
     "execution_count": 73,
     "metadata": {},
     "output_type": "execute_result"
    }
   ],
   "source": [
    "diff(cos(x))"
   ]
  },
  {
   "cell_type": "code",
   "execution_count": 7,
   "metadata": {
    "collapsed": false
   },
   "outputs": [
    {
     "data": {
      "text/plain": [
       "-log(sin(x)**2 - 1)/2"
      ]
     },
     "execution_count": 7,
     "metadata": {},
     "output_type": "execute_result"
    }
   ],
   "source": [
    "from sympy import *\n",
    "x=Symbol('x')\n",
    "integrate(tan(x))"
   ]
  },
  {
   "cell_type": "code",
   "execution_count": 25,
   "metadata": {
    "collapsed": false
   },
   "outputs": [
    {
     "data": {
      "text/plain": [
       "-sin(x) + cos(x) + tan(x)**2 + 1 + 1/(x**2 + 1)"
      ]
     },
     "execution_count": 25,
     "metadata": {},
     "output_type": "execute_result"
    }
   ],
   "source": [
    "#coding=utf-8\n",
    "import math\n",
    "from sympy import *\n",
    "x=Symbol('x')\n",
    "y=Symbol('y')\n",
    "diff(cos(x)+sin(x)+tan(x)+acos(x)+asin(x)+atan(x))\n",
    "\n",
    "\n"
   ]
  },
  {
   "cell_type": "code",
   "execution_count": 43,
   "metadata": {
    "collapsed": false
   },
   "outputs": [
    {
     "name": "stdout",
     "output_type": "stream",
     "text": [
      "{y: 1, x: 2}\n"
     ]
    }
   ],
   "source": [
    "from sympy import *\n",
    "x = Symbol('x') \n",
    "y = Symbol('y')\n",
    "print (solve([2 * x - y - 3, 3 * x + y - 7],[x, y]) )\n",
    " "
   ]
  },
  {
   "cell_type": "code",
   "execution_count": 44,
   "metadata": {
    "collapsed": false
   },
   "outputs": [
    {
     "data": {
      "text/plain": [
       "{x_0: 1, x_2: 5, x_1: -1}"
      ]
     },
     "execution_count": 44,
     "metadata": {},
     "output_type": "execute_result"
    }
   ],
   "source": [
    "from sympy import *\n",
    "\n",
    "a = Matrix([[2,3,1],[4,2,3], [7,1,-1]])\n",
    "b = Matrix([[4],[17],[1]])\n",
    "x = symarray('x', 3)\n",
    "solve(a*x-b)"
   ]
  },
  {
   "cell_type": "code",
   "execution_count": 45,
   "metadata": {
    "collapsed": false
   },
   "outputs": [
    {
     "data": {
      "text/plain": [
       "{b: 3/2, a: 5/2}"
      ]
     },
     "execution_count": 45,
     "metadata": {},
     "output_type": "execute_result"
    }
   ],
   "source": [
    "var('a b c')\n",
    "solve([Eq(a+b,4),Eq(a-b,1)],[a,b])\n"
   ]
  },
  {
   "cell_type": "code",
   "execution_count": 46,
   "metadata": {
    "collapsed": false
   },
   "outputs": [
    {
     "data": {
      "text/plain": [
       "-1 + pi**4/90"
      ]
     },
     "execution_count": 46,
     "metadata": {},
     "output_type": "execute_result"
    }
   ],
   "source": [
    " zeta(4,2)"
   ]
  },
  {
   "cell_type": "code",
   "execution_count": null,
   "metadata": {
    "collapsed": false
   },
   "outputs": [],
   "source": [
    " "
   ]
  },
  {
   "cell_type": "code",
   "execution_count": 55,
   "metadata": {
    "collapsed": false
   },
   "outputs": [
    {
     "data": {
      "text/plain": [
       "2*f(x)"
      ]
     },
     "execution_count": 55,
     "metadata": {},
     "output_type": "execute_result"
    }
   ],
   "source": [
    "from sympy import *\n",
    "x = Symbol('x') \n",
    "f=Function('f')\n",
    "f(x)*diff(x,x) +f(x)\n"
   ]
  },
  {
   "cell_type": "code",
   "execution_count": 63,
   "metadata": {
    "collapsed": false
   },
   "outputs": [
    {
     "data": {
      "text/plain": [
       "Eq(f(x), C1*sin(x) + C2*cos(x))"
      ]
     },
     "execution_count": 63,
     "metadata": {},
     "output_type": "execute_result"
    }
   ],
   "source": [
    "dsolve(f(x).diff(x,x)+f(x),f(x))"
   ]
  },
  {
   "cell_type": "code",
   "execution_count": 65,
   "metadata": {
    "collapsed": false
   },
   "outputs": [
    {
     "data": {
      "text/plain": [
       "-C1*cos(x) + C2*sin(x)"
      ]
     },
     "execution_count": 65,
     "metadata": {},
     "output_type": "execute_result"
    }
   ],
   "source": [
    "var('C1 C2')\n",
    "integrate(C1*sin(x) + C2*cos(x),x)"
   ]
  },
  {
   "cell_type": "code",
   "execution_count": 66,
   "metadata": {
    "collapsed": false
   },
   "outputs": [
    {
     "data": {
      "text/plain": [
       "n**2"
      ]
     },
     "execution_count": 66,
     "metadata": {},
     "output_type": "execute_result"
    }
   ],
   "source": [
    "#求和 \n",
    ">>> from sympy import summation, oo, symbols, log\n",
    ">>> i, n, m = symbols('i n m', integer=True)\n",
    ">>> summation(2*i - 1, (i, 1, n))"
   ]
  },
  {
   "cell_type": "code",
   "execution_count": 67,
   "metadata": {
    "collapsed": false
   },
   "outputs": [
    {
     "data": {
      "text/plain": [
       "exp(x)"
      ]
     },
     "execution_count": 67,
     "metadata": {},
     "output_type": "execute_result"
    }
   ],
   "source": [
    ">>> from sympy.abc import x\n",
    ">>> from sympy import factorial\n",
    ">>> summation(x**n/factorial(n), (n, 0, oo))"
   ]
  },
  {
   "cell_type": "code",
   "execution_count": 68,
   "metadata": {
    "collapsed": false
   },
   "outputs": [
    {
     "data": {
      "text/plain": [
       "x**6"
      ]
     },
     "execution_count": 68,
     "metadata": {},
     "output_type": "execute_result"
    }
   ],
   "source": [
    "#基本函数积分\n",
    ">>> from sympy import integrate, erf, exp, sin, log, oo, pi, sinh, symbols\n",
    ">>> x, y = symbols('x,y')\n",
    ">>> integrate(6*x**5, x)"
   ]
  },
  {
   "cell_type": "code",
   "execution_count": 8,
   "metadata": {
    "collapsed": false
   },
   "outputs": [
    {
     "data": {
      "text/plain": [
       "1"
      ]
     },
     "execution_count": 8,
     "metadata": {},
     "output_type": "execute_result"
    }
   ],
   "source": [
    " integrate(sin(x), (x, 0, pi/2))"
   ]
  },
  {
   "cell_type": "code",
   "execution_count": 70,
   "metadata": {
    "collapsed": false
   },
   "outputs": [
    {
     "data": {
      "text/plain": [
       "1"
      ]
     },
     "execution_count": 70,
     "metadata": {},
     "output_type": "execute_result"
    }
   ],
   "source": [
    " integrate(exp(-x), (x, 0, oo))"
   ]
  },
  {
   "cell_type": "code",
   "execution_count": 73,
   "metadata": {
    "collapsed": false
   },
   "outputs": [
    {
     "data": {
      "text/plain": [
       "sin(x)*cos(y) + sin(y)*cos(x)"
      ]
     },
     "execution_count": 73,
     "metadata": {},
     "output_type": "execute_result"
    }
   ],
   "source": [
    " #三角函数\n",
    "sin(x+y).expand(trig=True)"
   ]
  },
  {
   "cell_type": "code",
   "execution_count": 74,
   "metadata": {
    "collapsed": false
   },
   "outputs": [
    {
     "ename": "ImportError",
     "evalue": "cannot import name 'Ylm'",
     "output_type": "error",
     "traceback": [
      "\u001b[0;31m---------------------------------------------------------------------------\u001b[0m",
      "\u001b[0;31mImportError\u001b[0m                               Traceback (most recent call last)",
      "\u001b[0;32m<ipython-input-74-54ab5626aa31>\u001b[0m in \u001b[0;36m<module>\u001b[0;34m()\u001b[0m\n\u001b[1;32m      1\u001b[0m \u001b[1;31m#球谐函数\u001b[0m\u001b[1;33m\u001b[0m\u001b[1;33m\u001b[0m\u001b[0m\n\u001b[0;32m----> 2\u001b[0;31m \u001b[1;32mfrom\u001b[0m \u001b[0msympy\u001b[0m \u001b[1;32mimport\u001b[0m \u001b[0mYlm\u001b[0m\u001b[1;33m\u001b[0m\u001b[0m\n\u001b[0m\u001b[1;32m      3\u001b[0m \u001b[1;32mfrom\u001b[0m \u001b[0msympy\u001b[0m\u001b[1;33m.\u001b[0m\u001b[0mabc\u001b[0m \u001b[1;32mimport\u001b[0m \u001b[0mtheta\u001b[0m\u001b[1;33m,\u001b[0m \u001b[0mphi\u001b[0m\u001b[1;33m\u001b[0m\u001b[0m\n\u001b[1;32m      4\u001b[0m \u001b[0mYlm\u001b[0m\u001b[1;33m(\u001b[0m\u001b[1;36m1\u001b[0m\u001b[1;33m,\u001b[0m \u001b[1;36m0\u001b[0m\u001b[1;33m,\u001b[0m \u001b[0mtheta\u001b[0m\u001b[1;33m,\u001b[0m \u001b[0mphi\u001b[0m\u001b[1;33m)\u001b[0m\u001b[1;33m\u001b[0m\u001b[0m\n",
      "\u001b[0;31mImportError\u001b[0m: cannot import name 'Ylm'"
     ]
    }
   ],
   "source": [
    "#球谐函数\n",
    ">>> from sympy import Ylm\n",
    ">>> from sympy.abc import theta, phi\n",
    ">>> Ylm(1, 0, theta, phi)"
   ]
  },
  {
   "cell_type": "code",
   "execution_count": 75,
   "metadata": {
    "collapsed": false
   },
   "outputs": [
    {
     "data": {
      "text/plain": [
       "2*x**2 - 1"
      ]
     },
     "execution_count": 75,
     "metadata": {},
     "output_type": "execute_result"
    }
   ],
   "source": [
    ">>> from sympy import assoc_legendre, chebyshevt, legendre, hermite\n",
    ">>> chebyshevt(2, x)"
   ]
  },
  {
   "cell_type": "code",
   "execution_count": 7,
   "metadata": {
    "collapsed": false
   },
   "outputs": [
    {
     "data": {
      "text/plain": [
       "Integral(x**3*sin(x)**2/(x**2 + 1)**2, (x, -5, 5))"
      ]
     },
     "execution_count": 7,
     "metadata": {},
     "output_type": "execute_result"
    }
   ],
   "source": [
    "from sympy import *\n",
    " \n",
    "x = Symbol('x')\n",
    "integrate(x**3 *sin(x)**2/(x**4+2*x**2+1 ),(x,-5,5))\n",
    " \n",
    " "
   ]
  },
  {
   "cell_type": "code",
   "execution_count": 44,
   "metadata": {
    "collapsed": false
   },
   "outputs": [
    {
     "data": {
      "text/plain": [
       "[{U2: (R1*Ux + Rx*U + Rx*Ux)/(R1 + Rx),\n",
       "  U1: Rx*U/(R1 + Rx),\n",
       "  Rt: (-R1**2*Ux - R1*Rx*U - R1*Rx*Ux + R1*U*r - 2*R1*Ux*r - Rx*U*r - 2*Rx*Ux*r)/(-R1*U + R1*Ux + Rx*Ux)}]"
      ]
     },
     "execution_count": 44,
     "metadata": {},
     "output_type": "execute_result"
    }
   ],
   "source": [
    "'''\n",
    "三线pt100\n",
    "\n",
    "'''\n",
    "from sympy import *\n",
    "U,r,Rt,Rx,R1, Ux ,U1,U2 = symbols('U r Rt Rx R1 Ux U1 U2')\n",
    " \n",
    " \n",
    "solve([ Eq(U1, U * (Rx/(R1+Rx)) ) ,Eq(U2,U*((Rt+r)/(R1+Rt+2*r))), Eq(Ux,U2-U1),Eq(Rx,100),Eq(R1,2000),Eq(Ux,0.1) ],\n",
    "       {   U2,U1,Rt  ,r} )"
   ]
  },
  {
   "cell_type": "code",
   "execution_count": 131,
   "metadata": {
    "collapsed": false
   },
   "outputs": [
    {
     "data": {
      "text/plain": [
       "{Rt: -(200000*U + Ux*r**2 + 4100*Ux*r + 4200000*Ux)/(-2000*U + Ux*r + 2100*Ux)}"
      ]
     },
     "execution_count": 131,
     "metadata": {},
     "output_type": "execute_result"
    }
   ],
   "source": [
    "'''\n",
    "三线pt100\n",
    "\n",
    "'''\n",
    "from sympy import *\n",
    "U,r,Rt,Rx,R1, Ux ,U1,U2 = symbols('U r Rt Rx R1 Ux U1 U2')\n",
    " \n",
    " \n",
    "solve([ Eq(Ux, U * (((Rt+r)/(2000+Rt+r))-(100+r)/(2000+100+r))  )  ],\n",
    "       {   Rt   } )\n",
    " \n",
    " "
   ]
  },
  {
   "cell_type": "code",
   "execution_count": 140,
   "metadata": {
    "collapsed": false
   },
   "outputs": [
    {
     "name": "stdout",
     "output_type": "stream",
     "text": [
      "217.50065980469782\n"
     ]
    }
   ],
   "source": [
    "Ux=0.20\n",
    "U=4\n",
    "r=10\n",
    "Rt=-(200000*U + Ux*r**2 + 4100*Ux*r + 4200000*Ux)/(-2000*U + Ux*r + 2100*Ux)\n",
    "print(Rt)\n",
    " "
   ]
  },
  {
   "cell_type": "code",
   "execution_count": 12,
   "metadata": {
    "collapsed": false
   },
   "outputs": [
    {
     "ename": "SyntaxError",
     "evalue": "invalid syntax (<ipython-input-12-54824e8de62c>, line 7)",
     "output_type": "error",
     "traceback": [
      "\u001b[1;36m  File \u001b[1;32m\"<ipython-input-12-54824e8de62c>\"\u001b[1;36m, line \u001b[1;32m7\u001b[0m\n\u001b[1;33m    solve([Eq(i,C*diff(Uc,t)),Eq(Ul,L*diff(i,t))] ,Eq(U,Ul+Uc+Ur),Eq(L*diff(i,t)+R*i+Uc,L*C*diff(diff(Uc,t),t)+R*C*diff(Uc,t)+Uc],\u001b[0m\n\u001b[1;37m                                                                                                                                ^\u001b[0m\n\u001b[1;31mSyntaxError\u001b[0m\u001b[1;31m:\u001b[0m invalid syntax\n"
     ]
    }
   ],
   "source": [
    "from sympy import *\n",
    "R,t = symbols('R t', positive=True)\n",
    "C,Q = symbols('C Q', positive=True)\n",
    "L = symbols('L', positive=True)\n",
    "U ,Uc,Ul,Ur= symbols('U ,Uc,Ul,U', positive=True)\n",
    "i= symbols('i', positive=True)\n",
    "solve([Eq(i,C*diff(Uc,t)),Eq(Ul,L*diff(i,t))] ,Eq(U,Ul+Uc+Ur),Eq(L*diff(i,t)+R*i+Uc,L*C*diff(diff(Uc,t),t)+R*C*diff(Uc,t)+Uc],\n",
    "       {  i ,U ,C } )"
   ]
  },
  {
   "cell_type": "code",
   "execution_count": 31,
   "metadata": {
    "collapsed": false
   },
   "outputs": [
    {
     "name": "stdout",
     "output_type": "stream",
     "text": [
      "C=531.6 pf\n",
      "C=1063.2 pf\n"
     ]
    }
   ],
   "source": [
    "print(\"C=%s pf\"  % (8.86E-12 *0.2*0.3/0.001*1.0E12))\n",
    "\n",
    "print(\"C=%s pf\"  % (8.86E-12 *0.2*0.3/0.0005*1.0E12))"
   ]
  },
  {
   "cell_type": "code",
   "execution_count": null,
   "metadata": {
    "collapsed": true
   },
   "outputs": [],
   "source": []
  }
 ],
 "metadata": {
  "kernelspec": {
   "display_name": "Python 3",
   "language": "python",
   "name": "python3"
  },
  "language_info": {
   "codemirror_mode": {
    "name": "ipython",
    "version": 3
   },
   "file_extension": ".py",
   "mimetype": "text/x-python",
   "name": "python",
   "nbconvert_exporter": "python",
   "pygments_lexer": "ipython3",
   "version": "3.5.2"
  }
 },
 "nbformat": 4,
 "nbformat_minor": 2
}
