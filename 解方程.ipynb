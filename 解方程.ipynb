{
 "cells": [
  {
   "cell_type": "code",
   "execution_count": 43,
   "metadata": {
    "collapsed": false
   },
   "outputs": [
    {
     "data": {
      "text/plain": [
       "{t: 24, x: 39, z: 12, y: 21}"
      ]
     },
     "execution_count": 43,
     "metadata": {},
     "output_type": "execute_result"
    }
   ],
   "source": [
    "from __future__ import division\n",
    "from sympy import *\n",
    "x = Symbol('x')\n",
    "y = Symbol('y')\n",
    "z = Symbol('z')\n",
    "t = Symbol('t')\n",
    "solve([Eq(4*(x-y-z),t),Eq(2*(3*y-z-x),t),Eq(7*z-x-y,t),Eq(x+y+z,72)],[x,y,z,t])\n",
    " "
   ]
  },
  {
   "cell_type": "code",
   "execution_count": 44,
   "metadata": {
    "collapsed": false
   },
   "outputs": [
    {
     "data": {
      "text/plain": [
       "[{I: (V1 + V2 - 2*V3)/Rt,\n",
       "  I3: 0,\n",
       "  R: -Rt*(V2 - V3)/(V1 + V2 - 2*V3),\n",
       "  I2: (V1 + V2 - 2*V3)/Rt}]"
      ]
     },
     "execution_count": 44,
     "metadata": {},
     "output_type": "execute_result"
    }
   ],
   "source": [
    "from sympy import *\n",
    "I , I2 , I3 = symbols('I I2 I3')\n",
    "R ,Rt = symbols('R Rt') \n",
    "V1,V2,V3 = symbols('V1 V2 V3')\n",
    "solve([ Eq(I*R+I*Rt +I2*R,V1-V2),Eq(I*R+I*Rt +I3*R,V1-V3),Eq(I,I2+I3),Eq(-I3*R+I2*R,V3-V2 ),Eq(I3,0)]  ,\n",
    "       { I2 , I3,R ,Rt  ,I} )"
   ]
  },
  {
   "cell_type": "code",
   "execution_count": 45,
   "metadata": {
    "collapsed": false
   },
   "outputs": [
    {
     "data": {
      "text/plain": [
       "{x_1: 5*x_3/4, x_0: x_3/4, x_2: 3*x_3/4}"
      ]
     },
     "execution_count": 45,
     "metadata": {},
     "output_type": "execute_result"
    }
   ],
   "source": [
    "from sympy import *\n",
    "\n",
    "a = Matrix([[3,0,-1,0],[8,0,0,-2], [0,2,-2,-1]])\n",
    "x = symarray('x', 4)\n",
    "solve(a*x)"
   ]
  },
  {
   "cell_type": "code",
   "execution_count": 46,
   "metadata": {
    "collapsed": false
   },
   "outputs": [
    {
     "name": "stdout",
     "output_type": "stream",
     "text": [
      "{x: 2, y: 1}\n"
     ]
    }
   ],
   "source": [
    "'''\n",
    "解普通方程\n",
    "'''\n",
    "from sympy import *\n",
    "x = Symbol('x')\n",
    "y = Symbol('y')\n",
    "print (solve([2 * x - y - 3, 3 * x + y - 7],[x, y]))"
   ]
  },
  {
   "cell_type": "code",
   "execution_count": 47,
   "metadata": {
    "collapsed": false
   },
   "outputs": [
    {
     "name": "stdout",
     "output_type": "stream",
     "text": [
      "E\n"
     ]
    }
   ],
   "source": [
    "'''\n",
    "解微积分 \n",
    "'''\n",
    "from sympy import *\n",
    "n = Symbol('n')\n",
    "s = ((n+3)/(n+2))**n\n",
    "\n",
    "#无穷为两个小写o\n",
    "\n",
    "print (limit(s, n, oo))"
   ]
  },
  {
   "cell_type": "code",
   "execution_count": 48,
   "metadata": {
    "collapsed": false
   },
   "outputs": [
    {
     "name": "stdout",
     "output_type": "stream",
     "text": [
      "2\n"
     ]
    }
   ],
   "source": [
    "from sympy import *\n",
    "t = Symbol('t')\n",
    "x = Symbol('x')\n",
    "m = integrate(sin(t)/(pi-t),(t,0,x))\n",
    "n = integrate(m,(x,0,pi))\n",
    "print(n)"
   ]
  },
  {
   "cell_type": "code",
   "execution_count": 49,
   "metadata": {
    "collapsed": false
   },
   "outputs": [
    {
     "name": "stdout",
     "output_type": "stream",
     "text": [
      "Eq(f(x), C1*exp(x**2))\n"
     ]
    }
   ],
   "source": [
    "\n",
    "#y' = 2xy  的通解\n",
    "\n",
    "from sympy import *\n",
    "f = Function('f')\n",
    "x = Symbol('x')\n",
    "print (dsolve(diff(f(x),x) - 2*f(x)*x,f(x)))\n",
    "\n",
    "\n",
    "#说明：\n",
    "\n",
    "#f = Function('f')\n",
    "#x = Symbol('x')\n",
    "\n",
    "#表示f(x)的导：\n",
    "\n",
    "#diff(f(x), x, index)    \n",
    "#>>> diff(sin(x), x, 1)\n",
    "#cos(x)\n",
    "\n",
    "#dsolve(eq, f(x))\n",
    "    #第一个参数为微分方程（要先将等式移项为右端为0的形式)\n",
    "    #第二个参数为要解的函数(在微分方程中)"
   ]
  },
  {
   "cell_type": "code",
   "execution_count": 50,
   "metadata": {
    "collapsed": false
   },
   "outputs": [
    {
     "name": "stdout",
     "output_type": "stream",
     "text": [
      "a11 + 2*a12 + 2*a13 + a22 + 2*a23 + a33\n",
      "Matrix([[x1*(a11*x1 + a12*x2 + a13*x3) + x2*(a12*x1 + a22*x2 + a23*x3) + x3*(a13*x1 + a23*x2 + a33*x3)]])\n"
     ]
    }
   ],
   "source": [
    "'''\n",
    "矩阵化简\n",
    "'''\n",
    "from sympy import *\n",
    "x1,x2,x3 = symbols('x1 x2 x3')\n",
    "a11,a12,a13,a22,a23,a33 = symbols('a11 a12 a13 a22 a23 a33')\n",
    "m = Matrix([[x1,x2,x3]])\n",
    "n = Matrix([[a11,a12,a13],[a12,a22,a23],[a13,a23,a33]])\n",
    "v = Matrix([[x1],[x2],[x3]])\n",
    "f = m * n * v\n",
    "#f[0] 化简， subs代入计算\n",
    "print (f[0].subs({x1:1, x2:1, x3:1}))\n",
    "print (f  )"
   ]
  },
  {
   "cell_type": "code",
   "execution_count": 51,
   "metadata": {
    "collapsed": false
   },
   "outputs": [
    {
     "data": {
      "text/plain": [
       "1"
      ]
     },
     "execution_count": 51,
     "metadata": {},
     "output_type": "execute_result"
    }
   ],
   "source": [
    "from sympy.abc import theta, phi\n",
    "x=Symbol(\"x\")\n",
    "\n",
    "limit(sin(x)/x, x, 0)\n"
   ]
  },
  {
   "cell_type": "code",
   "execution_count": 52,
   "metadata": {
    "collapsed": false
   },
   "outputs": [
    {
     "data": {
      "text/plain": [
       "oo"
      ]
     },
     "execution_count": 52,
     "metadata": {},
     "output_type": "execute_result"
    }
   ],
   "source": [
    "limit(x, x, oo)"
   ]
  },
  {
   "cell_type": "code",
   "execution_count": 53,
   "metadata": {
    "collapsed": false
   },
   "outputs": [
    {
     "data": {
      "text/plain": [
       "1"
      ]
     },
     "execution_count": 53,
     "metadata": {},
     "output_type": "execute_result"
    }
   ],
   "source": [
    "limit(x**x, x, 0)"
   ]
  },
  {
   "cell_type": "code",
   "execution_count": 54,
   "metadata": {
    "collapsed": false
   },
   "outputs": [
    {
     "data": {
      "text/plain": [
       "E"
      ]
     },
     "execution_count": 54,
     "metadata": {},
     "output_type": "execute_result"
    }
   ],
   "source": [
    "limit(((1+x)/x)**x, x, oo)"
   ]
  },
  {
   "cell_type": "code",
   "execution_count": 62,
   "metadata": {
    "collapsed": false
   },
   "outputs": [
    {
     "name": "stdout",
     "output_type": "stream",
     "text": [
      "                           ⎛  2           ⎞│         ⎛  3           ⎞│        \n",
      "                         2 ⎜ d            ⎟│       3 ⎜ d            ⎟│       4\n",
      "                        x ⋅⎜───(Mod(x, 2))⎟│      x ⋅⎜───(Mod(x, 2))⎟│      x \n",
      "                           ⎜  2           ⎟│         ⎜  3           ⎟│        \n",
      "  ⎛d            ⎞│         ⎝dx            ⎠│x=0      ⎝dx            ⎠│x=0     \n",
      "x⋅⎜──(Mod(x, 2))⎟│    + ─────────────────────── + ─────────────────────── + ──\n",
      "  ⎝dx           ⎠│x=0              2                         6                \n",
      "\n",
      " ⎛  4           ⎞│         ⎛  5           ⎞│         ⎛  6           ⎞│        \n",
      " ⎜ d            ⎟│       5 ⎜ d            ⎟│       6 ⎜ d            ⎟│       7\n",
      "⋅⎜───(Mod(x, 2))⎟│      x ⋅⎜───(Mod(x, 2))⎟│      x ⋅⎜───(Mod(x, 2))⎟│      x \n",
      " ⎜  4           ⎟│         ⎜  5           ⎟│         ⎜  6           ⎟│        \n",
      " ⎝dx            ⎠│x=0      ⎝dx            ⎠│x=0      ⎝dx            ⎠│x=0     \n",
      "───────────────────── + ─────────────────────── + ─────────────────────── + ──\n",
      "         24                       120                       720               \n",
      "\n",
      " ⎛  7           ⎞│         ⎛  8           ⎞│         ⎛  9           ⎞│        \n",
      " ⎜ d            ⎟│       8 ⎜ d            ⎟│       9 ⎜ d            ⎟│        \n",
      "⋅⎜───(Mod(x, 2))⎟│      x ⋅⎜───(Mod(x, 2))⎟│      x ⋅⎜───(Mod(x, 2))⎟│        \n",
      " ⎜  7           ⎟│         ⎜  8           ⎟│         ⎜  9           ⎟│        \n",
      " ⎝dx            ⎠│x=0      ⎝dx            ⎠│x=0      ⎝dx            ⎠│x=0    ⎛\n",
      "───────────────────── + ─────────────────────── + ─────────────────────── + O⎝\n",
      "        5040                     40320                     362880             \n",
      "\n",
      "    \n",
      "    \n",
      "    \n",
      "    \n",
      " 10⎞\n",
      "x  ⎠\n",
      "    \n"
     ]
    }
   ],
   "source": [
    "from __future__ import division\n",
    "from sympy import *\n",
    "f = Function('f')\n",
    "x = Symbol('x',integer=True)\n",
    "\n",
    "pprint((x % 2 ).series(x, 0, 10))"
   ]
  },
  {
   "cell_type": "code",
   "execution_count": 64,
   "metadata": {
    "collapsed": false
   },
   "outputs": [
    {
     "name": "stdout",
     "output_type": "stream",
     "text": [
      "    1       1  \n",
      "- ───── + ─────\n",
      "  x + 2   x + 1\n"
     ]
    }
   ],
   "source": [
    "pprint(apart(1/( (x+2)*(x+1) ), x))"
   ]
  },
  {
   "cell_type": "code",
   "execution_count": 65,
   "metadata": {
    "collapsed": false
   },
   "outputs": [
    {
     "data": {
      "text/plain": [
       "1 + 2/(x - 1)"
      ]
     },
     "execution_count": 65,
     "metadata": {},
     "output_type": "execute_result"
    }
   ],
   "source": [
    "#展开式\n",
    "apart((x+1)/(x-1), x)"
   ]
  },
  {
   "cell_type": "code",
   "execution_count": 67,
   "metadata": {
    "collapsed": false
   },
   "outputs": [
    {
     "data": {
      "text/plain": [
       "(x*y + x*z + y*z)/(x*y*z)"
      ]
     },
     "execution_count": 67,
     "metadata": {},
     "output_type": "execute_result"
    }
   ],
   "source": [
    "#合并 \n",
    "together(1/x + 1/y + 1/z)"
   ]
  },
  {
   "cell_type": "code",
   "execution_count": 70,
   "metadata": {
    "collapsed": false
   },
   "outputs": [
    {
     "data": {
      "text/plain": [
       "(r1 + r2)/(r1*r2)"
      ]
     },
     "execution_count": 70,
     "metadata": {},
     "output_type": "execute_result"
    }
   ],
   "source": [
    "r1,r2 = symbols('r1 r2')\n",
    "together(1/r1+1/r2)"
   ]
  },
  {
   "cell_type": "code",
   "execution_count": 71,
   "metadata": {
    "collapsed": false
   },
   "outputs": [
    {
     "data": {
      "text/plain": [
       "1/r2 + 1/r1"
      ]
     },
     "execution_count": 71,
     "metadata": {},
     "output_type": "execute_result"
    }
   ],
   "source": [
    "(1/r1+1/r2)"
   ]
  },
  {
   "cell_type": "code",
   "execution_count": 72,
   "metadata": {
    "collapsed": false
   },
   "outputs": [
    {
     "data": {
      "text/plain": [
       "1 - x**2/2 + x**4/24 - x**6/720 + x**8/40320 + O(x**10)"
      ]
     },
     "execution_count": 72,
     "metadata": {},
     "output_type": "execute_result"
    }
   ],
   "source": [
    "cos(x).series(x, 0, 10)"
   ]
  },
  {
   "cell_type": "code",
   "execution_count": 73,
   "metadata": {
    "collapsed": false
   },
   "outputs": [
    {
     "data": {
      "text/plain": [
       "-sin(x)"
      ]
     },
     "execution_count": 73,
     "metadata": {},
     "output_type": "execute_result"
    }
   ],
   "source": [
    "diff(cos(x))"
   ]
  },
  {
   "cell_type": "code",
   "execution_count": 76,
   "metadata": {
    "collapsed": false
   },
   "outputs": [
    {
     "ename": "NameError",
     "evalue": "name 'tg' is not defined",
     "output_type": "error",
     "traceback": [
      "\u001b[0;31m---------------------------------------------------------------------------\u001b[0m",
      "\u001b[0;31mNameError\u001b[0m                                 Traceback (most recent call last)",
      "\u001b[0;32m<ipython-input-76-66f5bf547afd>\u001b[0m in \u001b[0;36m<module>\u001b[0;34m()\u001b[0m\n\u001b[0;32m----> 1\u001b[0;31m \u001b[0mintegrate\u001b[0m\u001b[1;33m(\u001b[0m\u001b[0mtg\u001b[0m\u001b[1;33m(\u001b[0m\u001b[0mx\u001b[0m\u001b[1;33m)\u001b[0m\u001b[1;33m)\u001b[0m\u001b[1;33m\u001b[0m\u001b[0m\n\u001b[0m",
      "\u001b[0;31mNameError\u001b[0m: name 'tg' is not defined"
     ]
    }
   ],
   "source": [
    "integrate(tgc(x))"
   ]
  },
  {
   "cell_type": "code",
   "execution_count": null,
   "metadata": {
    "collapsed": true
   },
   "outputs": [],
   "source": []
  }
 ],
 "metadata": {
  "kernelspec": {
   "display_name": "Python 3",
   "language": "python",
   "name": "python3"
  },
  "language_info": {
   "codemirror_mode": {
    "name": "ipython",
    "version": 3
   },
   "file_extension": ".py",
   "mimetype": "text/x-python",
   "name": "python",
   "nbconvert_exporter": "python",
   "pygments_lexer": "ipython3",
   "version": "3.5.2"
  }
 },
 "nbformat": 4,
 "nbformat_minor": 2
}
