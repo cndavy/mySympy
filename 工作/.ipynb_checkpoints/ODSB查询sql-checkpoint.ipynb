{
 "cells": [
  {
   "cell_type": "code",
   "execution_count": null,
   "metadata": {
    "collapsed": true
   },
   "outputs": [],
   "source": [
    "#查询供热费\n",
    "SELECT  SCSP_Smy_Dsc ,EtrUnt_Nm ,COUNT(*) ,SUM(HpnAm)  FROM (\n",
    "SELECT * \n",
    "  FROM BF_EVT_PER_SBSTRCVPY_TXN_INF WHERE (\n",
    "etrunt_nm LIKE '%青岛开源公司后海%' \n",
    "\n",
    "OR  \n",
    "etrunt_nm LIKE '%青岛能源热电有限公司%'\n",
    "\n",
    ")\n",
    "AND (substr(Hst_Acg_Dt,1,10)>='2016-09-01' AND \n",
    "         substr(Hst_Acg_Dt,1,10)<= '2016-12-31'\n",
    ")\n",
    ") a GROUP BY SCSP_Smy_Dsc ,EtrUnt_Nm "
   ]
  },
  {
   "cell_type": "code",
   "execution_count": null,
   "metadata": {
    "collapsed": true
   },
   "outputs": [],
   "source": []
  },
  {
   "cell_type": "code",
   "execution_count": null,
   "metadata": {
    "collapsed": true
   },
   "outputs": [],
   "source": [
    " --查询 信用卡 \n",
    " SELECT b.* FROM \n",
    " (SELECT  CardNo\t卡号 ,max(Dat_Payment)\t付款日期\n",
    "\n",
    " FROM BF_EVT_S05S9_ODS_PAYMENT WHERE  Dat_Payment<'2017-02-01' GROUP BY CardNo  ) b   \n",
    " \n",
    "WHERE   NOT EXISTS (SELECT * FROM Tmp_Han_12 c  WHERE b.卡号=c.卡号) \n",
    "   \n",
    " \n",
    " \n",
    " \n",
    " \n",
    "  SELECT * FROM BF_EVT_S05S9_ODS_PAYMENT WHERE CardNo IN  ('6221662242278478')\n",
    " \n",
    "SELECT * FROM  Tmp_Han_12 \n",
    "CREATE   TABLE Tmp_Han_12 AS \n",
    "\tSELECT  CardNo\t卡号 \n",
    "\n",
    " FROM BF_EVT_S05S9_ODS_PAYMENT WHERE  Dat_Payment>'2017-04-30' GROUP BY CardNo "
   ]
  },
  {
   "cell_type": "code",
   "execution_count": null,
   "metadata": {
    "collapsed": true
   },
   "outputs": [],
   "source": [
    "SELECT  SCSP_Smy_Dsc ,EtrUnt_Nm ,COUNT(*) ,SUM(HpnAm),chnl_id  FROM (\n",
    "SELECT *\n",
    "\n",
    "\n",
    "\n",
    "  FROM BF_EVT_PER_SBSTRCVPY_TXN_INF WHERE (\n",
    "etrunt_nm LIKE '%青岛西海岸公用事业集团能源有限公司%' \n",
    "\n",
    "OR  \n",
    "etrunt_nm LIKE '%大唐青岛西海岸热力有限公司%'\n",
    "\n",
    ")\n",
    "AND (substr(Hst_Acg_Dt,1,10)>='2017-08-01' AND \n",
    "         substr(Hst_Acg_Dt,1,10)<= '2017-12-31'\n",
    ")\n",
    ") a GROUP BY SCSP_Smy_Dsc ,EtrUnt_Nm , chnl_id ORDER BY etrunt_nm\n"
   ]
  },
  {
   "cell_type": "code",
   "execution_count": null,
   "metadata": {
    "collapsed": true
   },
   "outputs": [],
   "source": [
    "SELECT T3.TRDPCT_ACCNO 账号, T3.ACC_ACCNM 姓名, T3.SRP_ACT_TXNAMT 金额, a.Txn_EdDt 交易日期\n",
    "  FROM BF_EVT_MIX_SBSTRCVPY_BTCH_DTL T3,BF_EVT_MIX_SBSTRCVPY_BTCH_INF A\n",
    " WHERE T3.BTCH_ID IN\n",
    "       (SELECT T2.BTCH_ID\n",
    "          FROM BF_EVT_MIX_SBSTRCVPY_BTCH_INF T2\n",
    "         WHERE T2.ENTRST_PRJ_ID \n",
    "      IN\n",
    "(SELECT T1.ENTRST_PRJ_ID\n",
    "  FROM BF_AGT_ERSTRCVPYAR T1\n",
    " WHERE T1.ETRUNTSRPAR_SN IN\n",
    "       (SELECT DISTINCT T.ETRUNTSRPAR_SN\n",
    "          FROM BF_AGT_ERSTRCVPYAR_ACC_SET T\n",
    "         WHERE T.SETL_ACCNO = '37101984910051008192')))\n",
    "AND t3.Btch_ID=a.Btch_ID\n",
    "AND a.Txn_EdDt<='20170901'\n",
    "\n",
    "KHQD：\n",
    "\n",
    "select t3.*,t2.inst_no from \n",
    "(select t.trans_date,t1.acct_no,t1.acct_name,t1.bas_charge from BF_EVT_GEN_NB_RESP_FILE t1,BF_EVT_GEN_BATCH_PD_TASK t  where t1.chanl_flow_no=t.chanl_flow_no \n",
    "and  t.acct_no='37101984910051008192' and t.trans_date >='20161101') t3 left join BF_AGT_DEP_ACCT_SAP t2 on t3.acct_no=t2.cust_acct_no and substr(t3.acct_no,1,3)='239'\n",
    "where substr(t3.acct_no,1,3)='239' union  \n",
    "select t3.*,t2.inst_no from \n",
    "(select t.trans_date,t1.acct_no,t1.acct_name,t1.bas_charge from BF_EVT_GEN_NB_RESP_FILE t1,BF_EVT_GEN_BATCH_PD_TASK t  where t1.chanl_flow_no=t.chanl_flow_no \n",
    "and  t.acct_no='37101984910051008192' and t.trans_date >='20161101') t3 left join BF_AGT_DEP_ACCT_SAP t2 on t3.acct_no=t2.crd_no and substr(t3.acct_no,1,3)<>'239'\n",
    "where substr(t3.acct_no,1,3)<>'239'"
   ]
  },
  {
   "cell_type": "code",
   "execution_count": null,
   "metadata": {
    "collapsed": true
   },
   "outputs": [],
   "source": [
    "--\n",
    "--代发工资人员统计\n",
    "\n",
    "SELECT a.Cust_No,a.cust_name ,aa.* FROM BF_AGT_DEP_ACCT_SAP a  JOIN  \n",
    "(SELECT  账号, 姓名,etrunt_nm ,MAX(交易日期) FROM \n",
    "(SELECT T3.TRDPCT_ACCNO 账号, T3.ACC_ACCNM 姓名,  a.Txn_EdDt 交易日期,t1.etrunt_nm \n",
    "  FROM BF_EVT_MIX_SBSTRCVPY_BTCH_DTL T3 JOIN BF_EVT_MIX_SBSTRCVPY_BTCH_INF A\n",
    "   ON T3.BTCH_ID = a.BTCH_ID\n",
    "   JOIN BF_AGT_ERSTRCVPYAR T1  \n",
    " ON T1.ENTRST_PRJ_ID=a.ENTRST_PRJ_ID AND a.Txn_EdDt>'20170901'\n",
    " AND\n",
    "\t\t\t\t t1.SCSP_Bsn_TpCd=0 AND t1.etrunt_nm IN ('青岛市少年宫',\n",
    "'青岛市少年儿童艺术小学',\n",
    " \n",
    "'青岛大学师范学院') ) GROUP BY 账号, 姓名,etrunt_nm  ) aa ON  cust_acct_no =aa.账号 ORDER BY aa.etrunt_nm\n",
    " \n",
    "\n"
   ]
  },
  {
   "cell_type": "code",
   "execution_count": null,
   "metadata": {
    "collapsed": true
   },
   "outputs": [],
   "source": [
    "--代发工资人员统计\n",
    "\n",
    "SELECT a.Cust_No,a.cust_name ,aa.* FROM BF_AGT_DEP_ACCT_SAP a  JOIN  \n",
    "(SELECT  账号, 姓名,etrunt_nm ,MAX(交易日期) FROM \n",
    "(SELECT T3.TRDPCT_ACCNO 账号, T3.ACC_ACCNM 姓名,  a.Txn_EdDt 交易日期,t1.etrunt_nm \n",
    "  FROM BF_EVT_MIX_SBSTRCVPY_BTCH_DTL T3 JOIN BF_EVT_MIX_SBSTRCVPY_BTCH_INF A\n",
    "   ON T3.BTCH_ID = a.BTCH_ID\n",
    "   JOIN BF_AGT_ERSTRCVPYAR T1  \n",
    " ON T1.ENTRST_PRJ_ID=a.ENTRST_PRJ_ID AND a.Txn_EdDt>'20170901'\n",
    " AND\n",
    "         t1.SCSP_Bsn_TpCd=0 AND t1.etrunt_nm IN ('济南铁路公安局青岛公安处' ) ) GROUP BY 账号, 姓名,etrunt_nm  ) aa ON  cust_acct_no =aa.账号 ORDER BY aa.etrunt_nm"
   ]
  }
 ],
 "metadata": {
  "kernelspec": {
   "display_name": "Python 3",
   "language": "python",
   "name": "python3"
  },
  "language_info": {
   "codemirror_mode": {
    "name": "ipython",
    "version": 3
   },
   "file_extension": ".py",
   "mimetype": "text/x-python",
   "name": "python",
   "nbconvert_exporter": "python",
   "pygments_lexer": "ipython3",
   "version": "3.5.2"
  }
 },
 "nbformat": 4,
 "nbformat_minor": 2
}
