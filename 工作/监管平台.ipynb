{
 "cells": [
  {
   "cell_type": "code",
   "execution_count": null,
   "metadata": {
    "collapsed": true
   },
   "outputs": [],
   "source": [
    "import pandas as pd\n",
    "import numpy as np\n",
    "from xlrd import open_workbook\n",
    "import xlwt\n",
    "\n",
    "P9_Template_XLS_ = r\"E:\\资料\\个贷配套改造项目\\P9工作配置模板.xlsx\"\n",
    "P9_Task_XLS = r\"E:\\资料\\个贷配套改造项目\\P9工作配置_工作.xlsx\"\n",
    "def main():\n",
    "    df_0 = pd.read_excel(P9_Template_XLS_, sheetname=0, index_col=None)\n",
    "    with pd.ExcelWriter(P9_Task_XLS) as writer:\n",
    "        df_0.to_excel(writer, sheet_name='模板变更记录', index=None)\n",
    "if __name__ == \"__main__\":\n",
    "    main()\n"
   ]
  }
 ],
 "metadata": {
  "kernelspec": {
   "display_name": "Python 3",
   "language": "python",
   "name": "python3"
  },
  "language_info": {
   "codemirror_mode": {
    "name": "ipython",
    "version": 3
   },
   "file_extension": ".py",
   "mimetype": "text/x-python",
   "name": "python",
   "nbconvert_exporter": "python",
   "pygments_lexer": "ipython3",
   "version": "3.5.2"
  }
 },
 "nbformat": 4,
 "nbformat_minor": 0
}
