{
 "cells": [
  {
   "cell_type": "code",
   "execution_count": 1,
   "metadata": {
    "collapsed": false
   },
   "outputs": [
    {
     "name": "stdout",
     "output_type": "stream",
     "text": [
      "1530919427.9389813\n",
      "Sat Jul  7 07:23:47 2018\n",
      "Fri Jul  6 07:19:47 2018\n",
      "time.struct_time(tm_year=2018, tm_mon=7, tm_mday=6, tm_hour=7, tm_min=23, tm_sec=47, tm_wday=4, tm_yday=187, tm_isdst=0)\n",
      "1530919427.0\n",
      "2018-07-06 23:23:47\n",
      "time.struct_time(tm_year=2016, tm_mon=1, tm_mday=28, tm_hour=0, tm_min=0, tm_sec=0, tm_wday=3, tm_yday=28, tm_isdst=-1)\n"
     ]
    }
   ],
   "source": [
    "#!/usr/bin/env python  https://www.cnblogs.com/jl-bai/p/5505971.html\n",
    "# -*- coding:utf-8 -*-\n",
    "import time\n",
    "\n",
    "\n",
    "#返回当前时间戳\n",
    "print(time.time())\n",
    "#返回当前时间\n",
    "print(time.ctime())\n",
    "#将时间戳转换为字符串\n",
    "print(time.ctime(time.time()-86640))\n",
    "#本地时间\n",
    "print(time.localtime(time.time()-86400))\n",
    "#与time.localtime()功能相反,将struct_time格式转回成时间戳格式\n",
    "print(time.mktime(time.localtime()))\n",
    "#将struct_time格式转成指定的字符串格式\n",
    "print(time.strftime(\"%Y-%m-%d %H:%M:%S\",time.gmtime()))\n",
    "#将字符串格式转换成struct_time格式\n",
    "print(time.strptime(\"2016-01-28\",\"%Y-%m-%d\"))\n",
    "#休眠5s\n",
    "time.sleep(5)"
   ]
  },
  {
   "cell_type": "code",
   "execution_count": 4,
   "metadata": {
    "collapsed": false
   },
   "outputs": [
    {
     "name": "stdout",
     "output_type": "stream",
     "text": [
      "2018-06-07 07:26:00.842024\n",
      "2018-06-07\n",
      "2018\n",
      "7\n",
      "7\n",
      "2010-06-12\n",
      "time.struct_time(tm_year=2018, tm_mon=7, tm_mday=7, tm_hour=0, tm_min=0, tm_sec=0, tm_wday=5, tm_yday=188, tm_isdst=-1)\n",
      "5\n",
      "6\n",
      "Sat Jul  7 00:00:00 2018\n"
     ]
    }
   ],
   "source": [
    "import datetime\n",
    "from dateutil.relativedelta import relativedelta\n",
    "# 获取当前时间的前一个月\n",
    "print (datetime.datetime.now() - relativedelta(months=+1))\n",
    "# 获取当天的前一个月\n",
    "print(datetime.date.today() - relativedelta(months=+1) )\n",
    "#取时间对象的年\n",
    "print(datetime.date.today().year)\n",
    "#取时间对象的月\n",
    "print(datetime.date.today().month)\n",
    "#取时间对象的日\n",
    "print(datetime.date.today().day)\n",
    "#生成一个新的日期对象，用参数指定的年，月，日代替原有对象中的属性\n",
    "print(datetime.date.today().replace(2010,6,12))\n",
    "#返回给定时间的时间元组/对象\n",
    "print(datetime.date.today().timetuple())\n",
    "#返回weekday，从0开始\n",
    "print(datetime.date.today().weekday())\n",
    "#返回weekday,从1开始\n",
    "print(datetime.date.today().isoweekday())\n",
    "#返回给定时间的字符串格式\n",
    "print(datetime.date.today().ctime())"
   ]
  },
  {
   "cell_type": "code",
   "execution_count": null,
   "metadata": {
    "collapsed": true
   },
   "outputs": [],
   "source": [
    ""
   ]
  }
 ],
 "metadata": {
  "kernelspec": {
   "display_name": "Python 3",
   "language": "python",
   "name": "python3"
  },
  "language_info": {
   "codemirror_mode": {
    "name": "ipython",
    "version": 3.0
   },
   "file_extension": ".py",
   "mimetype": "text/x-python",
   "name": "python",
   "nbconvert_exporter": "python",
   "pygments_lexer": "ipython3",
   "version": "3.6.0"
  }
 },
 "nbformat": 4,
 "nbformat_minor": 0
}