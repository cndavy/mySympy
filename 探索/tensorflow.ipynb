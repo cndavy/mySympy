{
 "cells": [
  {
   "cell_type": "code",
   "execution_count": 3,
   "metadata": {
    "collapsed": false
   },
   "outputs": [
    {
     "name": "stdout",
     "output_type": "stream",
     "text": [
      "0 [[-0.21152657  0.09974641]] [ 1.12858903]\n",
      "20 [[-0.03199939  0.09279799]] [ 0.42544723]\n",
      "40 [[ 0.06439224  0.1663059 ]] [ 0.33642626]\n",
      "60 [[ 0.09008878  0.18979646]] [ 0.31058583]\n",
      "80 [[ 0.09718844  0.19696739]] [ 0.30307776]\n",
      "100 [[ 0.09919359  0.1991075 ]] [ 0.30089504]\n",
      "120 [[ 0.09976724  0.1997387 ]] [ 0.30026034]\n",
      "140 [[ 0.09993259  0.19992372]] [ 0.30007574]\n",
      "160 [[ 0.09998044  0.19997777]] [ 0.30002204]\n",
      "180 [[ 0.09999432  0.19999352]] [ 0.30000642]\n",
      "200 [[ 0.09999835  0.19999811]] [ 0.30000186]\n"
     ]
    }
   ],
   "source": [
    "import tensorflow as tf\n",
    "import numpy as np\n",
    "\n",
    "# 使用 NumPy 生成假数据(phony data), 总共 100 个点.\n",
    "x_data = np.float32(np.random.rand(2, 100)) # 随机输入\n",
    "y_data = np.dot([0.100, 0.200], x_data) + 0.300\n",
    "\n",
    "# 构造一个线性模型\n",
    "# \n",
    "b = tf.Variable(tf.zeros([1]))\n",
    "W = tf.Variable(tf.random_uniform([1, 2], -1.0, 1.0))\n",
    "y = tf.matmul(W, x_data) + b\n",
    "\n",
    "# 最小化方差\n",
    "loss = tf.reduce_mean(tf.square(y - y_data))\n",
    "optimizer = tf.train.GradientDescentOptimizer(0.5)\n",
    "train = optimizer.minimize(loss)\n",
    "\n",
    "# 初始化变量\n",
    "init = tf.global_variables_initializer()\n",
    "\n",
    "# 启动图 (graph)\n",
    "sess = tf.Session()\n",
    "sess.run(init)\n",
    "\n",
    "# 拟合平面\n",
    "for step in range(0, 201):\n",
    "    sess.run(train)\n",
    "    if step % 20 == 0:\n",
    "        print (step, sess.run(W), sess.run(b))"
   ]
  },
  {
   "cell_type": "code",
   "execution_count": 4,
   "metadata": {
    "collapsed": false
   },
   "outputs": [
    {
     "data": {
      "text/plain": [
       "array([[  7.51160383e-01,   1.74800992e-01,   4.56540972e-01,\n",
       "          5.63192844e-01,   7.60964096e-01,   1.51130423e-01,\n",
       "          4.11685258e-01,   7.06280231e-01,   3.70894969e-01,\n",
       "          3.94596279e-01,   8.53561223e-01,   6.99749231e-01,\n",
       "          5.31137921e-02,   5.80854893e-01,   3.56919579e-02,\n",
       "          3.07041347e-01,   1.95543915e-01,   8.69090080e-01,\n",
       "          8.93923521e-01,   4.40897971e-01,   7.90965140e-01,\n",
       "          4.94570822e-01,   8.75401378e-01,   6.88162863e-01,\n",
       "          9.01742756e-01,   8.03523064e-01,   2.02235639e-01,\n",
       "          6.11984789e-01,   3.01700324e-01,   9.19939756e-01,\n",
       "          5.59020638e-01,   4.88208652e-01,   5.78087509e-01,\n",
       "          6.97616279e-01,   7.13148296e-01,   7.63707340e-01,\n",
       "          4.30563956e-01,   9.20346141e-01,   8.00806955e-02,\n",
       "          2.08280176e-01,   8.50286305e-01,   6.03744723e-02,\n",
       "          4.69773561e-02,   9.89048719e-01,   3.54967862e-01,\n",
       "          7.51250908e-02,   9.62194562e-01,   2.52234548e-01,\n",
       "          7.81429291e-01,   1.31257460e-01,   4.06199694e-01,\n",
       "          5.75853169e-01,   7.34825313e-01,   1.12246662e-01,\n",
       "          7.95234859e-01,   5.79449713e-01,   2.90624350e-02,\n",
       "          8.21380377e-01,   3.21906358e-02,   2.80851841e-01,\n",
       "          9.91221905e-01,   1.06417708e-01,   5.93739510e-01,\n",
       "          6.00246549e-01,   9.69376564e-01,   2.25649312e-01,\n",
       "          2.28859171e-01,   4.48402166e-01,   6.23220056e-02,\n",
       "          6.03604913e-01,   4.41629887e-01,   3.34132314e-01,\n",
       "          1.59073025e-01,   5.61197937e-01,   9.38599646e-01,\n",
       "          1.64142638e-01,   7.13005424e-01,   9.80467498e-01,\n",
       "          1.38403460e-01,   2.98829973e-01,   2.71460414e-01,\n",
       "          1.30134106e-01,   3.89323026e-01,   1.44227203e-02,\n",
       "          6.64602757e-01,   2.39876658e-01,   6.46828115e-01,\n",
       "          3.61399740e-01,   7.26158440e-01,   1.90595463e-01,\n",
       "          9.83584583e-01,   3.31814140e-01,   7.00340867e-02,\n",
       "          9.09734845e-01,   7.50403702e-01,   3.62078935e-01,\n",
       "          5.00153303e-01,   1.01401038e-01,   2.83268429e-02,\n",
       "          1.55541688e-01],\n",
       "       [  3.02187622e-01,   4.91765052e-01,   4.57518637e-01,\n",
       "          5.11647463e-01,   7.10177571e-02,   7.39870012e-01,\n",
       "          8.36479187e-01,   8.53150368e-01,   6.92021191e-01,\n",
       "          1.46753445e-01,   2.06763133e-01,   9.24284518e-01,\n",
       "          2.90065147e-02,   3.05349201e-01,   7.09850132e-01,\n",
       "          9.76720572e-01,   3.69773924e-01,   5.86748719e-01,\n",
       "          5.07259548e-01,   7.11757600e-01,   6.92455411e-01,\n",
       "          6.61917150e-01,   8.67239356e-01,   9.87221539e-01,\n",
       "          8.80037546e-02,   8.30286145e-01,   9.28194880e-01,\n",
       "          7.60412037e-01,   6.99601352e-01,   9.74397361e-01,\n",
       "          6.18698657e-01,   3.70803952e-01,   7.99477339e-01,\n",
       "          1.27940131e-02,   4.60982770e-01,   8.22717071e-01,\n",
       "          1.30404845e-01,   2.91201741e-01,   9.56153512e-01,\n",
       "          7.72925794e-01,   2.23446026e-01,   9.87265289e-01,\n",
       "          2.80793369e-01,   1.11592345e-01,   2.92016774e-01,\n",
       "          7.13936746e-01,   1.76423743e-01,   2.64328364e-02,\n",
       "          6.10846579e-01,   6.02396190e-01,   5.81289947e-01,\n",
       "          9.15341556e-01,   5.44409215e-01,   8.08743411e-04,\n",
       "          8.02282155e-01,   3.42127740e-01,   9.14531127e-02,\n",
       "          4.74298388e-01,   3.41152430e-01,   7.31692374e-01,\n",
       "          6.00235879e-01,   7.77260661e-01,   3.26379808e-03,\n",
       "          8.32740366e-01,   8.77583683e-01,   8.56917799e-01,\n",
       "          3.70259076e-01,   2.23863378e-01,   3.71905556e-03,\n",
       "          1.93370879e-02,   5.43223739e-01,   3.86872292e-01,\n",
       "          4.99116451e-01,   6.82920992e-01,   4.69199866e-01,\n",
       "          6.19731136e-02,   8.11220050e-01,   3.50528926e-01,\n",
       "          3.40725064e-01,   6.58931911e-01,   2.57337719e-01,\n",
       "          9.70991373e-01,   9.82055902e-01,   6.64295137e-01,\n",
       "          5.03306031e-01,   8.61174524e-01,   4.94098306e-01,\n",
       "          7.57464111e-01,   1.39226139e-01,   1.41502157e-01,\n",
       "          4.63148743e-01,   1.89792067e-01,   3.20645690e-01,\n",
       "          2.38785267e-01,   4.61945444e-01,   6.26009822e-01,\n",
       "          8.26342285e-01,   6.47433177e-02,   5.46738446e-01,\n",
       "          6.19502030e-02]], dtype=float32)"
      ]
     },
     "execution_count": 4,
     "metadata": {},
     "output_type": "execute_result"
    }
   ],
   "source": [
    "x_data"
   ]
  },
  {
   "cell_type": "code",
   "execution_count": 5,
   "metadata": {
    "collapsed": false
   },
   "outputs": [
    {
     "data": {
      "text/plain": [
       "array([ 0.43555356,  0.41583311,  0.43715782,  0.45864878,  0.39029996,\n",
       "        0.46308704,  0.50846436,  0.5412581 ,  0.47549374,  0.36881032,\n",
       "        0.42670875,  0.55483183,  0.31111268,  0.41915533,  0.44553922,\n",
       "        0.52604825,  0.39350918,  0.50425875,  0.49084426,  0.48644132,\n",
       "        0.5175876 ,  0.48184051,  0.56098801,  0.56626059,  0.40777503,\n",
       "        0.54640954,  0.50586254,  0.51328089,  0.4700903 ,  0.58687345,\n",
       "        0.4796418 ,  0.42298166,  0.51770422,  0.37232043,  0.46351138,\n",
       "        0.54091415,  0.36913736,  0.45027496,  0.49923877,  0.47541318,\n",
       "        0.42971784,  0.5034905 ,  0.36085641,  0.42122334,  0.39390014,\n",
       "        0.45029986,  0.4315042 ,  0.33051002,  0.50031224,  0.43360498,\n",
       "        0.45687796,  0.54065363,  0.48236437,  0.31138641,  0.53997992,\n",
       "        0.42637052,  0.32119687,  0.47699772,  0.37144955,  0.47442366,\n",
       "        0.51916937,  0.4660939 ,  0.36002671,  0.52657273,  0.57245439,\n",
       "        0.49394849,  0.39693773,  0.38961289,  0.30697601,  0.36422791,\n",
       "        0.45280774,  0.41078769,  0.41573059,  0.49270399,  0.48769994,\n",
       "        0.32880889,  0.53354455,  0.46815253,  0.38198536,  0.46166938,\n",
       "        0.37861359,  0.50721169,  0.53534348,  0.4343013 ,  0.46712148,\n",
       "        0.49622257,  0.46350247,  0.4876328 ,  0.40046107,  0.34735998,\n",
       "        0.49098821,  0.37113983,  0.37113255,  0.43873054,  0.46742946,\n",
       "        0.46140986,  0.51528379,  0.32308877,  0.41218037,  0.32794421])"
      ]
     },
     "execution_count": 5,
     "metadata": {},
     "output_type": "execute_result"
    }
   ],
   "source": [
    "y_data"
   ]
  },
  {
   "cell_type": "code",
   "execution_count": 4,
   "metadata": {
    "collapsed": false
   },
   "outputs": [
    {
     "name": "stdout",
     "output_type": "stream",
     "text": [
      "WARNING:tensorflow:From f:\\anaconda3\\envs\\tensorflow\\lib\\site-packages\\tensorflow\\python\\util\\tf_should_use.py:175: initialize_all_variables (from tensorflow.python.ops.variables) is deprecated and will be removed after 2017-03-02.\n",
      "Instructions for updating:\n",
      "Use `tf.global_variables_initializer` instead.\n"
     ]
    },
    {
     "name": "stderr",
     "output_type": "stream",
     "text": [
      "WARNING:tensorflow:From f:\\anaconda3\\envs\\tensorflow\\lib\\site-packages\\tensorflow\\python\\util\\tf_should_use.py:175: initialize_all_variables (from tensorflow.python.ops.variables) is deprecated and will be removed after 2017-03-02.\n",
      "Instructions for updating:\n",
      "Use `tf.global_variables_initializer` instead.\n"
     ]
    },
    {
     "name": "stdout",
     "output_type": "stream",
     "text": [
      "0 [[ 0.13196784  0.54260695]] [ 0.20134598]\n",
      "20 [[ 0.10597341  0.27658358]] [ 0.25485325]\n",
      "40 [[ 0.10327473  0.21931767]] [ 0.28767511]\n",
      "60 [[ 0.10128379  0.20490879]] [ 0.29662883]\n",
      "80 [[ 0.10044316  0.20125659]] [ 0.29907632]\n",
      "100 [[ 0.1001431  0.200324 ]] [ 0.29974654]\n",
      "120 [[ 0.10004435  0.20008415]] [ 0.29993036]\n",
      "140 [[ 0.10001339  0.200022  ]] [ 0.29998085]\n",
      "160 [[ 0.10000396  0.20000578]] [ 0.29999474]\n",
      "180 [[ 0.10000116  0.20000155]] [ 0.29999855]\n",
      "200 [[ 0.10000034  0.20000041]] [ 0.29999959]\n"
     ]
    }
   ],
   "source": [
    "import tensorflow as tf\n",
    "import numpy as np\n",
    "\n",
    "# 使用 NumPy 生成假数据(phony data), 总共 100 个点.\n",
    "x_data = np.float32(np.random.rand(2, 100)) # 随机输入\n",
    "y_data = np.dot([0.100, 0.200], x_data) + 0.300\n",
    "\n",
    "# 构造一个线性模型\n",
    "# \n",
    "b = tf.Variable(tf.zeros([1]))\n",
    "W = tf.Variable(tf.random_uniform([1, 2], -1.0, 1.0))\n",
    "y = tf.matmul(W, x_data) + b\n",
    "\n",
    "# 最小化方差\n",
    "loss = tf.reduce_mean(tf.square(y - y_data))\n",
    "optimizer = tf.train.GradientDescentOptimizer(0.5)\n",
    "train = optimizer.minimize(loss)\n",
    "\n",
    "# 初始化变量\n",
    "init = tf.initialize_all_variables()\n",
    "\n",
    "# 启动图 (graph)\n",
    "sess = tf.Session()\n",
    "sess.run(init)\n",
    "\n",
    "# 拟合平面\n",
    "for step in range(0, 201):\n",
    "    sess.run(train)\n",
    "    if step % 20 == 0:\n",
    "        print(step, sess.run(W), sess.run(b))\n",
    "\n",
    "# 得到最佳拟合结果 W: [[0.100  0.200]], b: [0.300]"
   ]
  },
  {
   "cell_type": "code",
   "execution_count": 7,
   "metadata": {
    "collapsed": true
   },
   "outputs": [],
   "source": [
    "import tensorflow as tf\n",
    "\n",
    "# 创建一个常量 op, 产生一个 1x2 矩阵. 这个 op 被作为一个节点\n",
    "# 加到默认图中.\n",
    "#\n",
    "# 构造器的返回值代表该常量 op 的返回值.\n",
    "matrix1 = tf.constant([[3., 3.]])\n",
    "\n",
    "# 创建另外一个常量 op, 产生一个 2x1 矩阵.\n",
    "matrix2 = tf.constant([[2.],[2.]])\n",
    "\n",
    "# 创建一个矩阵乘法 matmul op , 把 'matrix1' 和 'matrix2' 作为输入.\n",
    "# 返回值 'product' 代表矩阵乘法的结果.\n",
    "product = tf.matmul(matrix2, matrix1)"
   ]
  },
  {
   "cell_type": "code",
   "execution_count": 8,
   "metadata": {
    "collapsed": false
   },
   "outputs": [
    {
     "name": "stdout",
     "output_type": "stream",
     "text": [
      "[array([[ 6.,  6.],\n",
      "       [ 6.,  6.]], dtype=float32)]\n"
     ]
    }
   ],
   "source": [
    "with tf.Session() as sess:\n",
    "  result = sess.run([product])\n",
    "  print (result)"
   ]
  },
  {
   "cell_type": "code",
   "execution_count": 11,
   "metadata": {
    "collapsed": false
   },
   "outputs": [
    {
     "name": "stdout",
     "output_type": "stream",
     "text": [
      "[-2. -1.]\n"
     ]
    }
   ],
   "source": [
    "# 进入一个交互式 TensorFlow 会话.\n",
    "import tensorflow as tf\n",
    "sess = tf.InteractiveSession()\n",
    "\n",
    "x = tf.Variable([1.0, 2.0])\n",
    "a = tf.constant([3.0, 3.0])\n",
    "\n",
    "# 使用初始化器 initializer op 的 run() 方法初始化 'x' \n",
    "x.initializer.run()\n",
    "\n",
    "# 增加一个减法 sub op, 从 'x' 减去 'a'. 运行减法 op, 输出结果 \n",
    "sub = tf.subtract(x, a)\n",
    "print (sub.eval())\n",
    "# ==> [-2. -1.]"
   ]
  },
  {
   "cell_type": "code",
   "execution_count": 37,
   "metadata": {
    "collapsed": false
   },
   "outputs": [
    {
     "name": "stdout",
     "output_type": "stream",
     "text": [
      "2\n",
      "   \n",
      "          \n",
      "3\n",
      "   \n",
      "          \n",
      "6\n",
      "   \n",
      "          \n",
      "12\n",
      "   \n",
      "          \n",
      "24\n",
      "   \n",
      "          \n"
     ]
    }
   ],
   "source": [
    "# 创建一个变量, 初始化为标量 0.\n",
    "state = tf.Variable(1, name=\"counter\")\n",
    "state1 = tf.Variable(1, name=\"counter\")\n",
    "# 创建一个 op, 其作用是使 state 增加 1\n",
    "zero = tf.Variable(0, name=\"counter\")\n",
    " \n",
    "new_value = tf.add(state, state1)\n",
    " \n",
    "update = tf.assign(state, state1)\n",
    "update1 = tf.assign(state1, new_value)\n",
    "# 启动图后, 变量必须先经过`初始化` (init) op 初始化,\n",
    "# 首先必须增加一个`初始化` op 到图中.\n",
    "init_op = tf.global_variables_initializer()\n",
    "\n",
    "# 启动图, 运行 op\n",
    "with tf.Session() as sess:\n",
    "  # 运行 'init' op\n",
    "  sess.run(init_op)\n",
    "  \n",
    "  # 运行 op, 更新 'state', 并打印 'state'\n",
    "  for _ in range(5):\n",
    "    print (sess.run(new_value))  \n",
    "    print (\"   \" % sess.run(update))\n",
    "    print (\"          \" % sess.run(update1))\n",
    "    \n",
    "\n",
    "# 输出:"
   ]
  },
  {
   "cell_type": "code",
   "execution_count": 43,
   "metadata": {
    "collapsed": false
   },
   "outputs": [
    {
     "name": "stdout",
     "output_type": "stream",
     "text": [
      "[21.0, 7.0]\n"
     ]
    }
   ],
   "source": [
    "input1 = tf.constant(3.0)\n",
    "input2 = tf.constant(2.0)\n",
    "input3 = tf.constant(5.0)\n",
    "intermed = tf.add(input2, input3)\n",
    "mul = tf.multiply(input1, intermed)\n",
    "init_op = tf.global_variables_initializer()\n",
    "with tf.Session() as sess:\n",
    "  sess.run(init_op)\n",
    "  result = sess.run([mul, intermed])\n",
    "  print (result)\n"
   ]
  },
  {
   "cell_type": "code",
   "execution_count": null,
   "metadata": {
    "collapsed": true
   },
   "outputs": [],
   "source": []
  }
 ],
 "metadata": {
  "kernelspec": {
   "display_name": "Python 3",
   "language": "python",
   "name": "python3"
  },
  "language_info": {
   "codemirror_mode": {
    "name": "ipython",
    "version": 3
   },
   "file_extension": ".py",
   "mimetype": "text/x-python",
   "name": "python",
   "nbconvert_exporter": "python",
   "pygments_lexer": "ipython3",
   "version": "3.5.2"
  }
 },
 "nbformat": 4,
 "nbformat_minor": 2
}
