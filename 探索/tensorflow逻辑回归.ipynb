{
 "cells": [
  {
   "cell_type": "code",
   "execution_count": 1,
   "metadata": {
    "collapsed": false,
    "deletable": true,
    "editable": true
   },
   "outputs": [
    {
     "name": "stdout",
     "output_type": "stream",
     "text": [
      "Epoch: 0001 cost= 3.133099079 W= 0.655706 b= 0.565988\n",
      "Epoch: 0051 cost= 0.081469797 W= 0.287202 b= 0.530914\n",
      "Epoch: 0101 cost= 0.080949716 W= 0.284965 b= 0.547005\n",
      "Epoch: 0151 cost= 0.080489837 W= 0.282861 b= 0.56214\n",
      "Epoch: 0201 cost= 0.080083199 W= 0.280883 b= 0.576375\n",
      "Epoch: 0251 cost= 0.079723656 W= 0.279022 b= 0.589763\n",
      "Epoch: 0301 cost= 0.079405755 W= 0.277271 b= 0.602355\n",
      "Epoch: 0351 cost= 0.079124711 W= 0.275625 b= 0.614198\n",
      "Epoch: 0401 cost= 0.078876272 W= 0.274077 b= 0.625335\n",
      "Epoch: 0451 cost= 0.078656629 W= 0.272621 b= 0.635809\n",
      "Epoch: 0501 cost= 0.078462481 W= 0.271251 b= 0.645661\n",
      "Epoch: 0551 cost= 0.078290835 W= 0.269964 b= 0.654926\n",
      "Epoch: 0601 cost= 0.078139096 W= 0.268752 b= 0.663641\n",
      "Epoch: 0651 cost= 0.078004964 W= 0.267613 b= 0.671838\n",
      "Epoch: 0701 cost= 0.077886410 W= 0.266541 b= 0.679547\n",
      "Epoch: 0751 cost= 0.077781618 W= 0.265533 b= 0.686798\n",
      "Epoch: 0801 cost= 0.077689052 W= 0.264585 b= 0.693617\n",
      "Epoch: 0851 cost= 0.077607200 W= 0.263694 b= 0.700032\n",
      "Epoch: 0901 cost= 0.077534877 W= 0.262855 b= 0.706065\n",
      "Epoch: 0951 cost= 0.077470958 W= 0.262066 b= 0.711739\n",
      "Epoch: 1001 cost= 0.077414505 W= 0.261324 b= 0.717075\n",
      "Epoch: 1051 cost= 0.077364616 W= 0.260627 b= 0.722095\n",
      "Epoch: 1101 cost= 0.077320524 W= 0.25997 b= 0.726817\n",
      "Epoch: 1151 cost= 0.077281602 W= 0.259353 b= 0.731257\n",
      "Epoch: 1201 cost= 0.077247210 W= 0.258773 b= 0.735433\n",
      "Epoch: 1251 cost= 0.077216856 W= 0.258227 b= 0.739362\n",
      "Epoch: 1301 cost= 0.077190042 W= 0.257713 b= 0.743055\n",
      "Epoch: 1351 cost= 0.077166349 W= 0.25723 b= 0.74653\n",
      "Epoch: 1401 cost= 0.077145442 W= 0.256776 b= 0.749798\n",
      "Epoch: 1451 cost= 0.077126972 W= 0.256348 b= 0.752873\n",
      "Epoch: 1501 cost= 0.077110700 W= 0.255946 b= 0.755764\n",
      "Epoch: 1551 cost= 0.077096306 W= 0.255568 b= 0.758484\n",
      "Epoch: 1601 cost= 0.077083647 W= 0.255213 b= 0.76104\n",
      "Epoch: 1651 cost= 0.077072442 W= 0.254879 b= 0.763446\n",
      "Epoch: 1701 cost= 0.077062570 W= 0.254564 b= 0.765709\n",
      "Epoch: 1751 cost= 0.077053867 W= 0.254268 b= 0.767836\n",
      "Epoch: 1801 cost= 0.077046193 W= 0.25399 b= 0.769838\n",
      "Epoch: 1851 cost= 0.077039413 W= 0.253728 b= 0.771722\n",
      "Epoch: 1901 cost= 0.077033460 W= 0.253482 b= 0.773492\n",
      "Epoch: 1951 cost= 0.077028193 W= 0.253251 b= 0.775156\n",
      "Optimization Finished!\n",
      "cost= 0.0770237 W= 0.253037 b= 0.776692\n"
     ]
    },
    {
     "data": {
      "image/png": "[encoded data removed]",
      "text/plain": [
       "<matplotlib.figure.Figure at 0x973eb70>"
      ]
     },
     "metadata": {},
     "output_type": "display_data"
    }
   ],
   "source": [
    "__author__ = 'han'\n",
    "import tensorflow as tf\n",
    "import numpy\n",
    "import matplotlib.pyplot as plt\n",
    "rng = numpy.random\n",
    "\n",
    "# Parameters\n",
    "learning_rate = 0.01\n",
    "training_epochs = 2000\n",
    "display_step = 50\n",
    "\n",
    "# Training Data\n",
    "train_X = numpy.asarray([3.3,4.4,5.5,6.71,6.93,4.168,9.779,6.182,7.59,2.167,7.042,10.791,5.313,7.997,5.654,9.27,3.1])\n",
    "train_Y = numpy.asarray([1.7,2.76,2.09,3.19,1.694,1.573,3.366,2.596,2.53,1.221,2.827,3.465,1.65,2.904,2.42,2.94,1.3])\n",
    "n_samples = train_X.shape[0]\n",
    "\n",
    "# tf Graph Input\n",
    "X = tf.placeholder(\"float\")\n",
    "Y = tf.placeholder(\"float\")\n",
    "\n",
    "# Create Model\n",
    "\n",
    "# Set model weights\n",
    "W = tf.Variable(rng.random(), name=\"weight\")\n",
    "b = tf.Variable(rng.random(), name=\"bias\")\n",
    "\n",
    "# Construct a linear model\n",
    "activation = tf.add(tf.multiply(X, W), b)\n",
    "\n",
    "# Minimize the squared errors\n",
    "cost = tf.reduce_sum(tf.pow(activation-Y, 2))/(2*n_samples) #L2 loss\n",
    "optimizer = tf.train.GradientDescentOptimizer(learning_rate).minimize(cost) #Gradient descent\n",
    "\n",
    "# Initializing the variables\n",
    "#init = tf.initialize_all_variables()\n",
    "init =tf.global_variables_initializer()\n",
    "\n",
    "# Launch the graph\n",
    "with tf.Session() as sess:\n",
    "    sess.run(init)\n",
    "\n",
    "    # Fit all training data\n",
    "    for epoch in range(training_epochs):\n",
    "        for (x, y) in zip(train_X, train_Y):\n",
    "            sess.run(optimizer, feed_dict={X: x, Y: y})\n",
    "\n",
    "        #Display logs per epoch step\n",
    "        if epoch % display_step == 0:\n",
    "            print (\"Epoch:\", '%04d' % (epoch+1), \"cost=\", \\\n",
    "                \"{:.9f}\".format(sess.run(cost, feed_dict={X: train_X, Y:train_Y})), \\\n",
    "                \"W=\", sess.run(W), \"b=\", sess.run(b))\n",
    "\n",
    "    print (\"Optimization Finished!\")\n",
    "    print (\"cost=\", sess.run(cost, feed_dict={X: train_X, Y: train_Y}), \\\n",
    "          \"W=\", sess.run(W), \"b=\", sess.run(b))\n",
    "\n",
    "    #Graphic display\n",
    "    plt.plot(train_X, train_Y, 'ro', label='Original data')\n",
    "    plt.plot(train_X, sess.run(W) * train_X + sess.run(b), label='Fitted line')\n",
    "    plt.legend()\n",
    "    plt.show()"
   ]
  },
  {
   "cell_type": "code",
   "execution_count": null,
   "metadata": {
    "collapsed": true,
    "deletable": true,
    "editable": true
   },
   "outputs": [],
   "source": []
  }
 ],
 "metadata": {
  "kernelspec": {
   "display_name": "Python 3",
   "language": "python",
   "name": "python3"
  },
  "language_info": {
   "codemirror_mode": {
    "name": "ipython",
    "version": 3
   },
   "file_extension": ".py",
   "mimetype": "text/x-python",
   "name": "python",
   "nbconvert_exporter": "python",
   "pygments_lexer": "ipython3",
   "version": "3.5.2"
  }
 },
 "nbformat": 4,
 "nbformat_minor": 2
}
