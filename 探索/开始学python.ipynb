{
 "cells": [
  {
   "cell_type": "code",
   "execution_count": null,
   "metadata": {
    "collapsed": false
   },
   "outputs": [],
   "source": [
    "#！/usr/bin/python\n",
    "# -*- coding:utf-8 -*-\n",
    "\n",
    "# 输入用户名\n",
    "name = input(\"请输入用户名1\")\n",
    "\n",
    "# 打印输入\n",
    "print(name)"
   ]
  },
  {
   "cell_type": "code",
   "execution_count": 7,
   "metadata": {
    "collapsed": true
   },
   "outputs": [],
   "source": [
    "a = \"alex\"\n",
    "a = str('alex')"
   ]
  },
  {
   "cell_type": "code",
   "execution_count": 8,
   "metadata": {
    "collapsed": false
   },
   "outputs": [
    {
     "name": "stdout",
     "output_type": "stream",
     "text": [
      "alex女\n"
     ]
    }
   ],
   "source": [
    "age = 19\n",
    "new_age = str(age)\n",
    "print(new_str)"
   ]
  },
  {
   "cell_type": "code",
   "execution_count": 5,
   "metadata": {
    "collapsed": false
   },
   "outputs": [
    {
     "name": "stdout",
     "output_type": "stream",
     "text": [
      "alex女\n"
     ]
    }
   ],
   "source": [
    "name = 'alex'\n",
    "gender = '女'\n",
    "new_str = name + gender\n",
    "print(new_str)"
   ]
  },
  {
   "cell_type": "code",
   "execution_count": 9,
   "metadata": {
    "collapsed": false
   },
   "outputs": [
    {
     "name": "stdout",
     "output_type": "stream",
     "text": [
      "我叫李杰，性别：男,我今年19岁，我在说谎!\n"
     ]
    }
   ],
   "source": [
    "# 占位符，\n",
    "name = '我叫李杰，性别：%s,我今年%s岁，我在说谎!'\n",
    "new_str = name %('男',19,)\n",
    "print(new_str)"
   ]
  },
  {
   "cell_type": "code",
   "execution_count": 11,
   "metadata": {
    "collapsed": false
   },
   "outputs": [
    {
     "name": "stdout",
     "output_type": "stream",
     "text": [
      "包含敏感字符\n"
     ]
    }
   ],
   "source": [
    "content = \"hello, nihao, zhidao, mingbai,\"\n",
    "if \"hello\" in content:\n",
    "    print('包含敏感字符')\n",
    "else:\n",
    "    print(content)"
   ]
  },
  {
   "cell_type": "code",
   "execution_count": 12,
   "metadata": {
    "collapsed": false
   },
   "outputs": [
    {
     "name": "stdout",
     "output_type": "stream",
     "text": [
      " alex \n",
      " alex\n"
     ]
    }
   ],
   "source": [
    "#移除空白\n",
    "val = \" alex \"\n",
    "print(val)\n",
    "new_val = val.strip() # 左右\n",
    "new_val = val.lstrip()# 左边\n",
    "new_val = val.rstrip() # 右边\n",
    "print(new_val)"
   ]
  },
  {
   "cell_type": "code",
   "execution_count": 16,
   "metadata": {
    "collapsed": false
   },
   "outputs": [
    {
     "name": "stdout",
     "output_type": "stream",
     "text": [
      "['alex ls123 9']\n",
      "['alex ls123 9']\n",
      "['alex ls123', '9']\n"
     ]
    }
   ],
   "source": [
    "user_info = \"alex ls123 9\"\n",
    "v = user_info.split('|')\n",
    "print(v)\n",
    "v = user_info.split('|',1)\n",
    "print(v)\n",
    "v = user_info.rsplit(' ',1)\n",
    "print(v)"
   ]
  },
  {
   "cell_type": "code",
   "execution_count": null,
   "metadata": {
    "collapsed": true
   },
   "outputs": [],
   "source": [
    "val = \"李杰\"\n",
    "v = val[0]\n",
    "print(v)\n",
    "                    \n",
    "val = input('>>>')\n",
    "i = 0\n",
    "while i < len(val):\n",
    "print(val[i])\n",
    "i += 1"
   ]
  }
 ],
 "metadata": {
  "kernelspec": {
   "display_name": "Python 3",
   "language": "python",
   "name": "python3"
  },
  "language_info": {
   "codemirror_mode": {
    "name": "ipython",
    "version": 3
   },
   "file_extension": ".py",
   "mimetype": "text/x-python",
   "name": "python",
   "nbconvert_exporter": "python",
   "pygments_lexer": "ipython3",
   "version": "3.5.2"
  }
 },
 "nbformat": 4,
 "nbformat_minor": 2
}
